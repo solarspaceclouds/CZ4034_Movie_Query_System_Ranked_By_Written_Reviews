{
 "cells": [
  {
   "cell_type": "code",
   "execution_count": 1,
   "id": "64ee7f0d-1602-43ef-89df-7a4e289eb5b3",
   "metadata": {},
   "outputs": [],
   "source": [
    "# to add in report\n",
    "\n",
    "# determine if qqq.ddd, lnc,ltc? or what?"
   ]
  },
  {
   "cell_type": "code",
   "execution_count": 2,
   "id": "442b120b-fdf9-4c78-9759-208e7fa24576",
   "metadata": {},
   "outputs": [],
   "source": [
    "# !pip install contractions\n",
    "# !pip install word2number\n",
    "# !pip install spacy"
   ]
  },
  {
   "cell_type": "code",
   "execution_count": 3,
   "id": "5843ecfb-3307-4220-9250-5e09080b36a2",
   "metadata": {},
   "outputs": [],
   "source": [
    "# !pip install matplotlib"
   ]
  },
  {
   "cell_type": "code",
   "execution_count": 1,
   "id": "71379c17-3e22-4c8d-ae27-527978d75483",
   "metadata": {},
   "outputs": [],
   "source": [
    "import matplotlib.pyplot as plt\n",
    "%matplotlib inline"
   ]
  },
  {
   "cell_type": "code",
   "execution_count": 139,
   "id": "02e6ad9b",
   "metadata": {},
   "outputs": [],
   "source": [
    "import pandas as pd\n",
    "import numpy as np\n",
    "\n",
    "import os\n",
    "import re\n",
    "import requests\n",
    "\n",
    "from collections import Counter\n",
    "import nltk\n",
    "from nltk.tokenize import word_tokenize\n",
    "from bs4 import BeautifulSoup\n",
    "# import spacy\n",
    "import unidecode\n",
    "from word2number import w2n\n",
    "import contractions\n",
    "# nltk.download('stopwords')\n",
    "from nltk.corpus import stopwords\n",
    "import timeit\n",
    "import pickle\n",
    "\n",
    "import math"
   ]
  },
  {
   "cell_type": "markdown",
   "id": "6aa68382",
   "metadata": {},
   "source": [
    "# Combining the webscraped data"
   ]
  },
  {
   "cell_type": "code",
   "execution_count": 3,
   "id": "a0867365-098a-471a-b965-87f89b210e12",
   "metadata": {},
   "outputs": [
    {
     "data": {
      "text/html": [
       "<div>\n",
       "<style scoped>\n",
       "    .dataframe tbody tr th:only-of-type {\n",
       "        vertical-align: middle;\n",
       "    }\n",
       "\n",
       "    .dataframe tbody tr th {\n",
       "        vertical-align: top;\n",
       "    }\n",
       "\n",
       "    .dataframe thead th {\n",
       "        text-align: right;\n",
       "    }\n",
       "</style>\n",
       "<table border=\"1\" class=\"dataframe\">\n",
       "  <thead>\n",
       "    <tr style=\"text-align: right;\">\n",
       "      <th></th>\n",
       "      <th>titles</th>\n",
       "      <th>genre</th>\n",
       "      <th>duration</th>\n",
       "      <th>rating</th>\n",
       "      <th>year</th>\n",
       "      <th>certification</th>\n",
       "      <th>url</th>\n",
       "      <th>director</th>\n",
       "      <th>cast</th>\n",
       "      <th>query_1_rel</th>\n",
       "      <th>query_2_rel</th>\n",
       "      <th>query_3_rel</th>\n",
       "      <th>query_4_rel</th>\n",
       "      <th>query_5_rel</th>\n",
       "    </tr>\n",
       "  </thead>\n",
       "  <tbody>\n",
       "    <tr>\n",
       "      <th>0</th>\n",
       "      <td>Jai_Bhim</td>\n",
       "      <td>Crime, Drama, Mystery</td>\n",
       "      <td>164</td>\n",
       "      <td>9.4</td>\n",
       "      <td>2021</td>\n",
       "      <td>NC16</td>\n",
       "      <td>https://www.imdb.com//title/tt15097216/</td>\n",
       "      <td>T.J. Gnanavel</td>\n",
       "      <td>['Suriya', 'Lijo Mol Jose', 'Manikandan K.', '...</td>\n",
       "      <td>0.0</td>\n",
       "      <td>1.0</td>\n",
       "      <td>0.0</td>\n",
       "      <td>1.0</td>\n",
       "      <td>0.0</td>\n",
       "    </tr>\n",
       "    <tr>\n",
       "      <th>1</th>\n",
       "      <td>Soorarai_Pottru</td>\n",
       "      <td>Drama</td>\n",
       "      <td>153</td>\n",
       "      <td>9.3</td>\n",
       "      <td>2020</td>\n",
       "      <td>PG13</td>\n",
       "      <td>https://www.imdb.com//title/tt10189514/</td>\n",
       "      <td>Sudha Kongara</td>\n",
       "      <td>['Suriya', 'Prakash Belawadi', 'Paresh Rawal',...</td>\n",
       "      <td>0.0</td>\n",
       "      <td>0.0</td>\n",
       "      <td>1.0</td>\n",
       "      <td>0.0</td>\n",
       "      <td>0.0</td>\n",
       "    </tr>\n",
       "    <tr>\n",
       "      <th>2</th>\n",
       "      <td>The_Shawshank_Redemption</td>\n",
       "      <td>Drama</td>\n",
       "      <td>142</td>\n",
       "      <td>9.3</td>\n",
       "      <td>1994</td>\n",
       "      <td>R(A)</td>\n",
       "      <td>https://www.imdb.com//title/tt0111161/</td>\n",
       "      <td>Frank Darabont</td>\n",
       "      <td>['Tim Robbins', 'Morgan Freeman', 'Bob Gunton'...</td>\n",
       "      <td>0.0</td>\n",
       "      <td>0.0</td>\n",
       "      <td>1.0</td>\n",
       "      <td>0.0</td>\n",
       "      <td>0.0</td>\n",
       "    </tr>\n",
       "    <tr>\n",
       "      <th>3</th>\n",
       "      <td>The_Godfather</td>\n",
       "      <td>Crime, Drama</td>\n",
       "      <td>175</td>\n",
       "      <td>9.2</td>\n",
       "      <td>1972</td>\n",
       "      <td>M18</td>\n",
       "      <td>https://www.imdb.com//title/tt0068646/</td>\n",
       "      <td>Francis Ford Coppola</td>\n",
       "      <td>['Marlon Brando', 'Al Pacino', 'James Caan', '...</td>\n",
       "      <td>0.0</td>\n",
       "      <td>1.0</td>\n",
       "      <td>0.0</td>\n",
       "      <td>1.0</td>\n",
       "      <td>0.0</td>\n",
       "    </tr>\n",
       "    <tr>\n",
       "      <th>4</th>\n",
       "      <td>The_Dark_Knight</td>\n",
       "      <td>Action, Crime, Drama</td>\n",
       "      <td>152</td>\n",
       "      <td>9.1</td>\n",
       "      <td>2008</td>\n",
       "      <td>PG</td>\n",
       "      <td>https://www.imdb.com//title/tt0468569/</td>\n",
       "      <td>Christopher Nolan</td>\n",
       "      <td>['Christian Bale', 'Heath Ledger', 'Aaron Eckh...</td>\n",
       "      <td>0.0</td>\n",
       "      <td>1.0</td>\n",
       "      <td>0.0</td>\n",
       "      <td>0.0</td>\n",
       "      <td>0.0</td>\n",
       "    </tr>\n",
       "  </tbody>\n",
       "</table>\n",
       "</div>"
      ],
      "text/plain": [
       "                     titles                  genre  duration  rating  year  \\\n",
       "0                  Jai_Bhim  Crime, Drama, Mystery       164     9.4  2021   \n",
       "1           Soorarai_Pottru                  Drama       153     9.3  2020   \n",
       "2  The_Shawshank_Redemption                  Drama       142     9.3  1994   \n",
       "3             The_Godfather           Crime, Drama       175     9.2  1972   \n",
       "4           The_Dark_Knight   Action, Crime, Drama       152     9.1  2008   \n",
       "\n",
       "  certification                                      url  \\\n",
       "0          NC16  https://www.imdb.com//title/tt15097216/   \n",
       "1          PG13  https://www.imdb.com//title/tt10189514/   \n",
       "2          R(A)   https://www.imdb.com//title/tt0111161/   \n",
       "3           M18   https://www.imdb.com//title/tt0068646/   \n",
       "4            PG   https://www.imdb.com//title/tt0468569/   \n",
       "\n",
       "               director                                               cast  \\\n",
       "0         T.J. Gnanavel  ['Suriya', 'Lijo Mol Jose', 'Manikandan K.', '...   \n",
       "1         Sudha Kongara  ['Suriya', 'Prakash Belawadi', 'Paresh Rawal',...   \n",
       "2        Frank Darabont  ['Tim Robbins', 'Morgan Freeman', 'Bob Gunton'...   \n",
       "3  Francis Ford Coppola  ['Marlon Brando', 'Al Pacino', 'James Caan', '...   \n",
       "4     Christopher Nolan  ['Christian Bale', 'Heath Ledger', 'Aaron Eckh...   \n",
       "\n",
       "   query_1_rel  query_2_rel  query_3_rel  query_4_rel  query_5_rel  \n",
       "0          0.0          1.0          0.0          1.0          0.0  \n",
       "1          0.0          0.0          1.0          0.0          0.0  \n",
       "2          0.0          0.0          1.0          0.0          0.0  \n",
       "3          0.0          1.0          0.0          1.0          0.0  \n",
       "4          0.0          1.0          0.0          0.0          0.0  "
      ]
     },
     "execution_count": 3,
     "metadata": {},
     "output_type": "execute_result"
    }
   ],
   "source": [
    "df = pd.read_csv(\"movies.csv\")\n",
    "df.head()"
   ]
  },
  {
   "cell_type": "code",
   "execution_count": 4,
   "id": "ed48389b-7ec3-4f11-a5c1-6ad8c89b65b8",
   "metadata": {},
   "outputs": [],
   "source": [
    "import string\n",
    "\n",
    "def remove_punctuation(text):\n",
    "    punctuationfree=\"\".join([i for i in text if i not in string.punctuation])\n",
    "    return punctuationfree\n",
    "\n",
    "def get_topics_page(url):\n",
    "    \n",
    "    response=requests.get(url)\n",
    "    # check successfull response\n",
    "    if response.status_code != 200:\n",
    "        raise Exception(f'Failed to load page {topic_url}')\n",
    "    # Parse using BeautifulSoup\n",
    "    doc = BeautifulSoup(response.text, 'html.parser')\n",
    "    return doc"
   ]
  },
  {
   "cell_type": "code",
   "execution_count": 5,
   "id": "454a927a-3e44-4ecc-a7de-8af20afebcd1",
   "metadata": {},
   "outputs": [],
   "source": [
    "review_urls = df['url']\n",
    "review_doc = get_topics_page(review_urls[0] + \"reviews/?ref_=tt_ql_urv\")\n",
    "def get_reviews(doc):\n",
    "        \n",
    "    review_tags=doc.find_all('div',{'class': \"content\"}) #\"text show-more__control clickable\" or\n",
    "    reviews=[]\n",
    "\n",
    "    for tag in review_tags:\n",
    "        review = tag.find('div',{'class': \"text show-more__control\"}).text\n",
    "        review = remove_punctuation(review)\n",
    "        reviews.append(str(review))\n",
    "    \n",
    "    return reviews"
   ]
  },
  {
   "cell_type": "code",
   "execution_count": 21,
   "id": "35dad65d-20d5-43db-ace6-0dcb4d45dabd",
   "metadata": {},
   "outputs": [],
   "source": [
    "# # get top 25 reviews each for all 1000 movies\n",
    "# df1000_list = []\n",
    "# for i in range(len(df)):\n",
    "#     review_doc = get_topics_page(df['url'][i] + \"reviews/?ref_=tt_ql_urv\")\n",
    "#     one_movie_all_reviews = get_reviews(review_doc)\n",
    "#     df1000_list.append(one_movie_all_reviews)"
   ]
  },
  {
   "cell_type": "code",
   "execution_count": 22,
   "id": "64ee8a89-213c-4eb2-8d6e-79f18e336846",
   "metadata": {},
   "outputs": [],
   "source": [
    "# df['review'] = df1000_list"
   ]
  },
  {
   "cell_type": "code",
   "execution_count": 23,
   "id": "b231d9d7",
   "metadata": {},
   "outputs": [],
   "source": [
    "# df.to_csv(\"data_1000_movies.csv\")"
   ]
  },
  {
   "cell_type": "code",
   "execution_count": 24,
   "id": "bb802d14-be11-4d82-8c9e-962a19643d17",
   "metadata": {},
   "outputs": [],
   "source": [
    "df= pd.read_csv(\"data_1000_movies.csv\")"
   ]
  },
  {
   "cell_type": "code",
   "execution_count": 25,
   "id": "b457e2b8",
   "metadata": {},
   "outputs": [
    {
     "name": "stdout",
     "output_type": "stream",
     "text": [
      "<class 'pandas.core.frame.DataFrame'>\n",
      "RangeIndex: 1000 entries, 0 to 999\n",
      "Data columns (total 12 columns):\n",
      " #   Column         Non-Null Count  Dtype  \n",
      "---  ------         --------------  -----  \n",
      " 0   Unnamed: 0     1000 non-null   int64  \n",
      " 1   Unnamed: 0.1   1000 non-null   int64  \n",
      " 2   titles         1000 non-null   object \n",
      " 3   genre          1000 non-null   object \n",
      " 4   duration       1000 non-null   int64  \n",
      " 5   rating         1000 non-null   float64\n",
      " 6   year           1000 non-null   object \n",
      " 7   certification  907 non-null    object \n",
      " 8   url            1000 non-null   object \n",
      " 9   director       1000 non-null   object \n",
      " 10  cast           1000 non-null   object \n",
      " 11  review         1000 non-null   object \n",
      "dtypes: float64(1), int64(3), object(8)\n",
      "memory usage: 93.9+ KB\n"
     ]
    }
   ],
   "source": [
    "df.info()"
   ]
  },
  {
   "cell_type": "code",
   "execution_count": 70,
   "id": "4574b450-1267-4766-8b3c-d856db46e1c9",
   "metadata": {},
   "outputs": [
    {
     "data": {
      "text/html": [
       "<div>\n",
       "<style scoped>\n",
       "    .dataframe tbody tr th:only-of-type {\n",
       "        vertical-align: middle;\n",
       "    }\n",
       "\n",
       "    .dataframe tbody tr th {\n",
       "        vertical-align: top;\n",
       "    }\n",
       "\n",
       "    .dataframe thead th {\n",
       "        text-align: right;\n",
       "    }\n",
       "</style>\n",
       "<table border=\"1\" class=\"dataframe\">\n",
       "  <thead>\n",
       "    <tr style=\"text-align: right;\">\n",
       "      <th></th>\n",
       "      <th>Unnamed: 0</th>\n",
       "      <th>Unnamed: 0.1</th>\n",
       "      <th>titles</th>\n",
       "      <th>genre</th>\n",
       "      <th>duration</th>\n",
       "      <th>rating</th>\n",
       "      <th>year</th>\n",
       "      <th>certification</th>\n",
       "      <th>url</th>\n",
       "      <th>director</th>\n",
       "      <th>cast</th>\n",
       "      <th>review</th>\n",
       "    </tr>\n",
       "  </thead>\n",
       "  <tbody>\n",
       "    <tr>\n",
       "      <th>0</th>\n",
       "      <td>0</td>\n",
       "      <td>0</td>\n",
       "      <td>Jai_Bhim</td>\n",
       "      <td>Crime, Drama, Mystery</td>\n",
       "      <td>164</td>\n",
       "      <td>9.4</td>\n",
       "      <td>2021</td>\n",
       "      <td>NC16</td>\n",
       "      <td>https://www.imdb.com//title/tt15097216/</td>\n",
       "      <td>T.J. Gnanavel</td>\n",
       "      <td>['Suriya', 'Lijo Mol Jose', 'Manikandan K.', '...</td>\n",
       "      <td>['Theres some serious upvoting for this film h...</td>\n",
       "    </tr>\n",
       "    <tr>\n",
       "      <th>1</th>\n",
       "      <td>1</td>\n",
       "      <td>1</td>\n",
       "      <td>Soorarai_Pottru</td>\n",
       "      <td>Drama</td>\n",
       "      <td>153</td>\n",
       "      <td>9.3</td>\n",
       "      <td>2020</td>\n",
       "      <td>PG13</td>\n",
       "      <td>https://www.imdb.com//title/tt10189514/</td>\n",
       "      <td>Sudha Kongara</td>\n",
       "      <td>['Suriya', 'Prakash Belawadi', 'Paresh Rawal',...</td>\n",
       "      <td>['Soorarai Pottru 2020 \\nBrief Review A Major ...</td>\n",
       "    </tr>\n",
       "    <tr>\n",
       "      <th>2</th>\n",
       "      <td>2</td>\n",
       "      <td>2</td>\n",
       "      <td>The_Shawshank_Redemption</td>\n",
       "      <td>Drama</td>\n",
       "      <td>142</td>\n",
       "      <td>9.3</td>\n",
       "      <td>1994</td>\n",
       "      <td>R(A)</td>\n",
       "      <td>https://www.imdb.com//title/tt0111161/</td>\n",
       "      <td>Frank Darabont</td>\n",
       "      <td>['Tim Robbins', 'Morgan Freeman', 'Bob Gunton'...</td>\n",
       "      <td>['Shawshank Redemption is without doubt one of...</td>\n",
       "    </tr>\n",
       "    <tr>\n",
       "      <th>3</th>\n",
       "      <td>3</td>\n",
       "      <td>3</td>\n",
       "      <td>The_Godfather</td>\n",
       "      <td>Crime, Drama</td>\n",
       "      <td>175</td>\n",
       "      <td>9.2</td>\n",
       "      <td>1972</td>\n",
       "      <td>M18</td>\n",
       "      <td>https://www.imdb.com//title/tt0068646/</td>\n",
       "      <td>Francis Ford Coppola</td>\n",
       "      <td>['Marlon Brando', 'Al Pacino', 'James Caan', '...</td>\n",
       "      <td>['Up until today I havent bothered to review T...</td>\n",
       "    </tr>\n",
       "    <tr>\n",
       "      <th>4</th>\n",
       "      <td>4</td>\n",
       "      <td>4</td>\n",
       "      <td>The_Dark_Knight</td>\n",
       "      <td>Action, Crime, Drama</td>\n",
       "      <td>152</td>\n",
       "      <td>9.1</td>\n",
       "      <td>2008</td>\n",
       "      <td>PG</td>\n",
       "      <td>https://www.imdb.com//title/tt0468569/</td>\n",
       "      <td>Christopher Nolan</td>\n",
       "      <td>['Christian Bale', 'Heath Ledger', 'Aaron Eckh...</td>\n",
       "      <td>['I first need to point out that I generally h...</td>\n",
       "    </tr>\n",
       "  </tbody>\n",
       "</table>\n",
       "</div>"
      ],
      "text/plain": [
       "   Unnamed: 0  Unnamed: 0.1                    titles                  genre  \\\n",
       "0           0             0                  Jai_Bhim  Crime, Drama, Mystery   \n",
       "1           1             1           Soorarai_Pottru                  Drama   \n",
       "2           2             2  The_Shawshank_Redemption                  Drama   \n",
       "3           3             3             The_Godfather           Crime, Drama   \n",
       "4           4             4           The_Dark_Knight   Action, Crime, Drama   \n",
       "\n",
       "   duration  rating  year certification  \\\n",
       "0       164     9.4  2021          NC16   \n",
       "1       153     9.3  2020          PG13   \n",
       "2       142     9.3  1994          R(A)   \n",
       "3       175     9.2  1972           M18   \n",
       "4       152     9.1  2008            PG   \n",
       "\n",
       "                                       url              director  \\\n",
       "0  https://www.imdb.com//title/tt15097216/         T.J. Gnanavel   \n",
       "1  https://www.imdb.com//title/tt10189514/         Sudha Kongara   \n",
       "2   https://www.imdb.com//title/tt0111161/        Frank Darabont   \n",
       "3   https://www.imdb.com//title/tt0068646/  Francis Ford Coppola   \n",
       "4   https://www.imdb.com//title/tt0468569/     Christopher Nolan   \n",
       "\n",
       "                                                cast  \\\n",
       "0  ['Suriya', 'Lijo Mol Jose', 'Manikandan K.', '...   \n",
       "1  ['Suriya', 'Prakash Belawadi', 'Paresh Rawal',...   \n",
       "2  ['Tim Robbins', 'Morgan Freeman', 'Bob Gunton'...   \n",
       "3  ['Marlon Brando', 'Al Pacino', 'James Caan', '...   \n",
       "4  ['Christian Bale', 'Heath Ledger', 'Aaron Eckh...   \n",
       "\n",
       "                                              review  \n",
       "0  ['Theres some serious upvoting for this film h...  \n",
       "1  ['Soorarai Pottru 2020 \\nBrief Review A Major ...  \n",
       "2  ['Shawshank Redemption is without doubt one of...  \n",
       "3  ['Up until today I havent bothered to review T...  \n",
       "4  ['I first need to point out that I generally h...  "
      ]
     },
     "execution_count": 70,
     "metadata": {},
     "output_type": "execute_result"
    }
   ],
   "source": [
    "df= pd.read_csv(\"data_1000_movies.csv\")\n",
    "df.head()"
   ]
  },
  {
   "cell_type": "markdown",
   "id": "255372c3",
   "metadata": {},
   "source": [
    "# Preprocessing Steps\n",
    "- Lowering the Text\n",
    "- Remove HTML tags\n",
    "- Expand contracted words\n",
    "- Punctuation Removal\n",
    "- Tokenization\n",
    "- Remove Stopwords\n",
    "- Stemming"
   ]
  },
  {
   "cell_type": "markdown",
   "id": "792b024c",
   "metadata": {},
   "source": [
    "## Lowering the Text"
   ]
  },
  {
   "cell_type": "code",
   "execution_count": 71,
   "id": "c54918a4",
   "metadata": {},
   "outputs": [],
   "source": [
    "def convert_lower_case(data):\n",
    "    return data.lower()"
   ]
  },
  {
   "cell_type": "code",
   "execution_count": 72,
   "id": "27c7c431",
   "metadata": {},
   "outputs": [],
   "source": [
    "# # lowering text\n",
    "# df['review']= df['review'].apply(lambda x: x.lower())\n",
    "# # data['review'] = data['review'].apply(convert_lower_case)"
   ]
  },
  {
   "cell_type": "markdown",
   "id": "0bd243d6",
   "metadata": {},
   "source": [
    "## Remove HTML Tags"
   ]
  },
  {
   "cell_type": "code",
   "execution_count": 73,
   "id": "00aec65b",
   "metadata": {},
   "outputs": [],
   "source": [
    "def strip_html_tags(text):\n",
    "    \"\"\"remove html tags from text\"\"\"\n",
    "    soup = BeautifulSoup(text, \"html.parser\")\n",
    "    stripped_text = soup.get_text(separator=\" \")\n",
    "    return stripped_text"
   ]
  },
  {
   "cell_type": "code",
   "execution_count": 74,
   "id": "1330751d",
   "metadata": {
    "scrolled": true
   },
   "outputs": [],
   "source": [
    "# df['review']= df['review'].apply(lambda x:strip_html_tags(x))"
   ]
  },
  {
   "cell_type": "markdown",
   "id": "66f9db8b",
   "metadata": {},
   "source": [
    "## Expand contractions"
   ]
  },
  {
   "cell_type": "code",
   "execution_count": 75,
   "id": "aa278141",
   "metadata": {},
   "outputs": [],
   "source": [
    "def expand_contractions(text):\n",
    "    \"\"\"expand shortened words, e.g. don't to do not\"\"\"\n",
    "    text = contractions.fix(text)\n",
    "    return text"
   ]
  },
  {
   "cell_type": "code",
   "execution_count": 76,
   "id": "13e4e2d9",
   "metadata": {},
   "outputs": [],
   "source": [
    "# df['review'] = df['review'].apply(lambda x:expand_contractions(x))"
   ]
  },
  {
   "cell_type": "markdown",
   "id": "12e18813",
   "metadata": {},
   "source": [
    "## Remove Punctuation"
   ]
  },
  {
   "cell_type": "code",
   "execution_count": 77,
   "id": "821032d9",
   "metadata": {},
   "outputs": [],
   "source": [
    "import string\n",
    "\n",
    "def remove_punctuation(text):\n",
    "    punctuationfree=\"\".join([i for i in text if i not in string.punctuation])\n",
    "    # punctuationfree = re.sub(r'[^\\w]', ' ', punctuationfree)\n",
    "    return punctuationfree\n",
    "#storing the puntuation free text\n",
    "# df['review']= df['review'].apply(lambda x:remove_punctuation(x))"
   ]
  },
  {
   "cell_type": "markdown",
   "id": "a3a869ab",
   "metadata": {},
   "source": [
    "## Remove numbers"
   ]
  },
  {
   "cell_type": "code",
   "execution_count": 181,
   "id": "c2b2d09e",
   "metadata": {},
   "outputs": [],
   "source": [
    "# def remove_numbers(text):\n",
    "#     no_number_string = re.sub(r'\\d+','',text)\n",
    "#     return no_number_string\n",
    "\n",
    "# # df['review'] = df['review'].apply(lambda x: remove_numbers(x))"
   ]
  },
  {
   "cell_type": "code",
   "execution_count": 182,
   "id": "6c3bb9d3-da3a-4458-83d2-1110037f37ca",
   "metadata": {},
   "outputs": [
    {
     "ename": "TypeError",
     "evalue": "'int' object is not subscriptable",
     "output_type": "error",
     "traceback": [
      "\u001b[1;31m---------------------------------------------------------------------------\u001b[0m",
      "\u001b[1;31mTypeError\u001b[0m                                 Traceback (most recent call last)",
      "\u001b[1;32m~\\AppData\\Local\\Temp/ipykernel_27240/3653601733.py\u001b[0m in \u001b[0;36m<module>\u001b[1;34m\u001b[0m\n\u001b[1;32m----> 1\u001b[1;33m \u001b[0mdf\u001b[0m\u001b[1;33m[\u001b[0m\u001b[1;34m'review'\u001b[0m\u001b[1;33m]\u001b[0m\u001b[1;33m.\u001b[0m\u001b[0mhead\u001b[0m\u001b[1;33m(\u001b[0m\u001b[1;33m)\u001b[0m\u001b[1;33m\u001b[0m\u001b[1;33m\u001b[0m\u001b[0m\n\u001b[0m",
      "\u001b[1;31mTypeError\u001b[0m: 'int' object is not subscriptable"
     ]
    }
   ],
   "source": [
    "df['review'].head()"
   ]
  },
  {
   "cell_type": "markdown",
   "id": "2332c60d-30be-4cff-a38b-912335de1847",
   "metadata": {},
   "source": [
    "## Spell Checking"
   ]
  },
  {
   "cell_type": "code",
   "execution_count": 80,
   "id": "986bf55d-2fae-4d70-93e0-06de8a9aa11f",
   "metadata": {},
   "outputs": [],
   "source": [
    "# from spellchecker import SpellChecker\n",
    "\n",
    "# spell = SpellChecker()\n",
    "\n",
    "# def correct_spellings(text):\n",
    "#     corrected_text = []\n",
    "#     misspelled_words = spell.unknown(text.split())\n",
    "#     for word in text.split():\n",
    "#         if word in misspelled_words:\n",
    "#             corrected_text.append(spell.correction(word))\n",
    "#         else:\n",
    "#             corrected_text.append(word)\n",
    "#     return \" \".join(corrected_text)\n",
    "    "
   ]
  },
  {
   "cell_type": "code",
   "execution_count": 81,
   "id": "9414943a-9810-458b-814a-88f5b1107434",
   "metadata": {},
   "outputs": [
    {
     "data": {
      "text/plain": [
       "'e'"
      ]
     },
     "execution_count": 81,
     "metadata": {},
     "output_type": "execute_result"
    }
   ],
   "source": [
    "text =df['review'][0]\n",
    "text[4]"
   ]
  },
  {
   "cell_type": "code",
   "execution_count": 83,
   "id": "aedbf83f",
   "metadata": {},
   "outputs": [
    {
     "data": {
      "text/plain": [
       "0    ['Theres some serious upvoting for this film h...\n",
       "1    ['Soorarai Pottru 2020 \\nBrief Review A Major ...\n",
       "2    ['Shawshank Redemption is without doubt one of...\n",
       "3    ['Up until today I havent bothered to review T...\n",
       "4    ['I first need to point out that I generally h...\n",
       "Name: review, dtype: object"
      ]
     },
     "execution_count": 83,
     "metadata": {},
     "output_type": "execute_result"
    }
   ],
   "source": [
    "df['review'].head()"
   ]
  },
  {
   "cell_type": "code",
   "execution_count": 84,
   "id": "43d662ee-cd89-4866-a8ff-6e3814089013",
   "metadata": {},
   "outputs": [
    {
     "data": {
      "text/plain": [
       "0      ['Theres some serious upvoting for this film h...\n",
       "1      ['Soorarai Pottru 2020 \\nBrief Review A Major ...\n",
       "2      ['Shawshank Redemption is without doubt one of...\n",
       "3      ['Up until today I havent bothered to review T...\n",
       "4      ['I first need to point out that I generally h...\n",
       "                             ...                        \n",
       "993    ['This is an average film masquerading as grea...\n",
       "994    ['In general I am NOT a fan of suspense films ...\n",
       "995    ['This is a pretty good horrorsuspense filmwit...\n",
       "996    ['This film is about a young lady Sabrina Audr...\n",
       "997    ['This is a very good wartime soap operawith a...\n",
       "Name: reviews, Length: 998, dtype: object"
      ]
     },
     "execution_count": 84,
     "metadata": {},
     "output_type": "execute_result"
    }
   ],
   "source": [
    "movie_title_list = df['titles'].unique()\n",
    "\n",
    "movie_title_list = list(movie_title_list)\n",
    "# movie_title_list.remove('\\x1a') # strange title (error)\n",
    "\n",
    "movie_reviews_df = pd.DataFrame(movie_title_list, columns = ['title'])\n",
    "movie_reviews_df['user_numeric_rating'] = df['rating']\n",
    "movie_reviews_df['reviews'] = df['review']\n",
    "movie_reviews_df['reviews']"
   ]
  },
  {
   "cell_type": "markdown",
   "id": "5cf0d343",
   "metadata": {},
   "source": [
    "## Word Tokenization\n",
    "\n",
    "-of reviews"
   ]
  },
  {
   "cell_type": "code",
   "execution_count": 85,
   "id": "1ada065c-b4e6-4abf-befb-c31ce8f5e051",
   "metadata": {},
   "outputs": [
    {
     "data": {
      "text/html": [
       "<div>\n",
       "<style scoped>\n",
       "    .dataframe tbody tr th:only-of-type {\n",
       "        vertical-align: middle;\n",
       "    }\n",
       "\n",
       "    .dataframe tbody tr th {\n",
       "        vertical-align: top;\n",
       "    }\n",
       "\n",
       "    .dataframe thead th {\n",
       "        text-align: right;\n",
       "    }\n",
       "</style>\n",
       "<table border=\"1\" class=\"dataframe\">\n",
       "  <thead>\n",
       "    <tr style=\"text-align: right;\">\n",
       "      <th></th>\n",
       "      <th>Unnamed: 0</th>\n",
       "      <th>Unnamed: 0.1</th>\n",
       "      <th>titles</th>\n",
       "      <th>genre</th>\n",
       "      <th>duration</th>\n",
       "      <th>rating</th>\n",
       "      <th>year</th>\n",
       "      <th>certification</th>\n",
       "      <th>url</th>\n",
       "      <th>director</th>\n",
       "      <th>cast</th>\n",
       "      <th>review</th>\n",
       "    </tr>\n",
       "  </thead>\n",
       "  <tbody>\n",
       "    <tr>\n",
       "      <th>0</th>\n",
       "      <td>0</td>\n",
       "      <td>0</td>\n",
       "      <td>Jai_Bhim</td>\n",
       "      <td>Crime, Drama, Mystery</td>\n",
       "      <td>164</td>\n",
       "      <td>9.4</td>\n",
       "      <td>2021</td>\n",
       "      <td>NC16</td>\n",
       "      <td>https://www.imdb.com//title/tt15097216/</td>\n",
       "      <td>T.J. Gnanavel</td>\n",
       "      <td>['Suriya', 'Lijo Mol Jose', 'Manikandan K.', '...</td>\n",
       "      <td>['Theres some serious upvoting for this film h...</td>\n",
       "    </tr>\n",
       "    <tr>\n",
       "      <th>1</th>\n",
       "      <td>1</td>\n",
       "      <td>1</td>\n",
       "      <td>Soorarai_Pottru</td>\n",
       "      <td>Drama</td>\n",
       "      <td>153</td>\n",
       "      <td>9.3</td>\n",
       "      <td>2020</td>\n",
       "      <td>PG13</td>\n",
       "      <td>https://www.imdb.com//title/tt10189514/</td>\n",
       "      <td>Sudha Kongara</td>\n",
       "      <td>['Suriya', 'Prakash Belawadi', 'Paresh Rawal',...</td>\n",
       "      <td>['Soorarai Pottru 2020 \\nBrief Review A Major ...</td>\n",
       "    </tr>\n",
       "    <tr>\n",
       "      <th>2</th>\n",
       "      <td>2</td>\n",
       "      <td>2</td>\n",
       "      <td>The_Shawshank_Redemption</td>\n",
       "      <td>Drama</td>\n",
       "      <td>142</td>\n",
       "      <td>9.3</td>\n",
       "      <td>1994</td>\n",
       "      <td>R(A)</td>\n",
       "      <td>https://www.imdb.com//title/tt0111161/</td>\n",
       "      <td>Frank Darabont</td>\n",
       "      <td>['Tim Robbins', 'Morgan Freeman', 'Bob Gunton'...</td>\n",
       "      <td>['Shawshank Redemption is without doubt one of...</td>\n",
       "    </tr>\n",
       "    <tr>\n",
       "      <th>3</th>\n",
       "      <td>3</td>\n",
       "      <td>3</td>\n",
       "      <td>The_Godfather</td>\n",
       "      <td>Crime, Drama</td>\n",
       "      <td>175</td>\n",
       "      <td>9.2</td>\n",
       "      <td>1972</td>\n",
       "      <td>M18</td>\n",
       "      <td>https://www.imdb.com//title/tt0068646/</td>\n",
       "      <td>Francis Ford Coppola</td>\n",
       "      <td>['Marlon Brando', 'Al Pacino', 'James Caan', '...</td>\n",
       "      <td>['Up until today I havent bothered to review T...</td>\n",
       "    </tr>\n",
       "    <tr>\n",
       "      <th>4</th>\n",
       "      <td>4</td>\n",
       "      <td>4</td>\n",
       "      <td>The_Dark_Knight</td>\n",
       "      <td>Action, Crime, Drama</td>\n",
       "      <td>152</td>\n",
       "      <td>9.1</td>\n",
       "      <td>2008</td>\n",
       "      <td>PG</td>\n",
       "      <td>https://www.imdb.com//title/tt0468569/</td>\n",
       "      <td>Christopher Nolan</td>\n",
       "      <td>['Christian Bale', 'Heath Ledger', 'Aaron Eckh...</td>\n",
       "      <td>['I first need to point out that I generally h...</td>\n",
       "    </tr>\n",
       "  </tbody>\n",
       "</table>\n",
       "</div>"
      ],
      "text/plain": [
       "   Unnamed: 0  Unnamed: 0.1                    titles                  genre  \\\n",
       "0           0             0                  Jai_Bhim  Crime, Drama, Mystery   \n",
       "1           1             1           Soorarai_Pottru                  Drama   \n",
       "2           2             2  The_Shawshank_Redemption                  Drama   \n",
       "3           3             3             The_Godfather           Crime, Drama   \n",
       "4           4             4           The_Dark_Knight   Action, Crime, Drama   \n",
       "\n",
       "   duration  rating  year certification  \\\n",
       "0       164     9.4  2021          NC16   \n",
       "1       153     9.3  2020          PG13   \n",
       "2       142     9.3  1994          R(A)   \n",
       "3       175     9.2  1972           M18   \n",
       "4       152     9.1  2008            PG   \n",
       "\n",
       "                                       url              director  \\\n",
       "0  https://www.imdb.com//title/tt15097216/         T.J. Gnanavel   \n",
       "1  https://www.imdb.com//title/tt10189514/         Sudha Kongara   \n",
       "2   https://www.imdb.com//title/tt0111161/        Frank Darabont   \n",
       "3   https://www.imdb.com//title/tt0068646/  Francis Ford Coppola   \n",
       "4   https://www.imdb.com//title/tt0468569/     Christopher Nolan   \n",
       "\n",
       "                                                cast  \\\n",
       "0  ['Suriya', 'Lijo Mol Jose', 'Manikandan K.', '...   \n",
       "1  ['Suriya', 'Prakash Belawadi', 'Paresh Rawal',...   \n",
       "2  ['Tim Robbins', 'Morgan Freeman', 'Bob Gunton'...   \n",
       "3  ['Marlon Brando', 'Al Pacino', 'James Caan', '...   \n",
       "4  ['Christian Bale', 'Heath Ledger', 'Aaron Eckh...   \n",
       "\n",
       "                                              review  \n",
       "0  ['Theres some serious upvoting for this film h...  \n",
       "1  ['Soorarai Pottru 2020 \\nBrief Review A Major ...  \n",
       "2  ['Shawshank Redemption is without doubt one of...  \n",
       "3  ['Up until today I havent bothered to review T...  \n",
       "4  ['I first need to point out that I generally h...  "
      ]
     },
     "execution_count": 85,
     "metadata": {},
     "output_type": "execute_result"
    }
   ],
   "source": [
    "df.head()"
   ]
  },
  {
   "cell_type": "code",
   "execution_count": 87,
   "id": "1303edf2",
   "metadata": {},
   "outputs": [],
   "source": [
    "def preprocess(data):\n",
    "    data = convert_lower_case(data)\n",
    "    data = strip_html_tags(data)\n",
    "    data = expand_contractions(data)\n",
    "    data = remove_punctuation(data)\n",
    "    # data = remove_numbers(data)\n",
    "    # data = correct_spellings(data)\n",
    "\n",
    "    return data"
   ]
  },
  {
   "cell_type": "code",
   "execution_count": 89,
   "id": "23a735aa-9da7-4390-a05c-7770dacb8a69",
   "metadata": {},
   "outputs": [],
   "source": [
    "movie_reviews_df['reviews'] = movie_reviews_df['reviews'].apply(lambda x:preprocess(x))"
   ]
  },
  {
   "cell_type": "code",
   "execution_count": 90,
   "id": "e7d1eb56-54af-48ef-87f9-d901545537ac",
   "metadata": {},
   "outputs": [
    {
     "data": {
      "text/html": [
       "<div>\n",
       "<style scoped>\n",
       "    .dataframe tbody tr th:only-of-type {\n",
       "        vertical-align: middle;\n",
       "    }\n",
       "\n",
       "    .dataframe tbody tr th {\n",
       "        vertical-align: top;\n",
       "    }\n",
       "\n",
       "    .dataframe thead th {\n",
       "        text-align: right;\n",
       "    }\n",
       "</style>\n",
       "<table border=\"1\" class=\"dataframe\">\n",
       "  <thead>\n",
       "    <tr style=\"text-align: right;\">\n",
       "      <th></th>\n",
       "      <th>title</th>\n",
       "      <th>user_numeric_rating</th>\n",
       "      <th>reviews</th>\n",
       "    </tr>\n",
       "  </thead>\n",
       "  <tbody>\n",
       "    <tr>\n",
       "      <th>0</th>\n",
       "      <td>Jai_Bhim</td>\n",
       "      <td>9.4</td>\n",
       "      <td>there is some serious upvoting for this film h...</td>\n",
       "    </tr>\n",
       "    <tr>\n",
       "      <th>1</th>\n",
       "      <td>Soorarai_Pottru</td>\n",
       "      <td>9.3</td>\n",
       "      <td>soorarai pottru 2020 nbrief review a major ach...</td>\n",
       "    </tr>\n",
       "    <tr>\n",
       "      <th>2</th>\n",
       "      <td>The_Shawshank_Redemption</td>\n",
       "      <td>9.3</td>\n",
       "      <td>shawshank redemption is without doubt one of t...</td>\n",
       "    </tr>\n",
       "    <tr>\n",
       "      <th>3</th>\n",
       "      <td>The_Godfather</td>\n",
       "      <td>9.2</td>\n",
       "      <td>up until today i have not bothered to review t...</td>\n",
       "    </tr>\n",
       "    <tr>\n",
       "      <th>4</th>\n",
       "      <td>The_Dark_Knight</td>\n",
       "      <td>9.1</td>\n",
       "      <td>i first need to point out that i generally hat...</td>\n",
       "    </tr>\n",
       "  </tbody>\n",
       "</table>\n",
       "</div>"
      ],
      "text/plain": [
       "                      title  user_numeric_rating  \\\n",
       "0                  Jai_Bhim                  9.4   \n",
       "1           Soorarai_Pottru                  9.3   \n",
       "2  The_Shawshank_Redemption                  9.3   \n",
       "3             The_Godfather                  9.2   \n",
       "4           The_Dark_Knight                  9.1   \n",
       "\n",
       "                                             reviews  \n",
       "0  there is some serious upvoting for this film h...  \n",
       "1  soorarai pottru 2020 nbrief review a major ach...  \n",
       "2  shawshank redemption is without doubt one of t...  \n",
       "3  up until today i have not bothered to review t...  \n",
       "4  i first need to point out that i generally hat...  "
      ]
     },
     "execution_count": 90,
     "metadata": {},
     "output_type": "execute_result"
    }
   ],
   "source": [
    "movie_reviews_df.head()"
   ]
  },
  {
   "cell_type": "code",
   "execution_count": null,
   "id": "983b93cf-fc03-49dd-a643-f7f18344cd2f",
   "metadata": {},
   "outputs": [],
   "source": []
  },
  {
   "cell_type": "markdown",
   "id": "6bf62837-356e-4657-b355-45a9d07d1484",
   "metadata": {},
   "source": [
    "## Tokenization"
   ]
  },
  {
   "cell_type": "code",
   "execution_count": 91,
   "id": "1f4ae320",
   "metadata": {},
   "outputs": [],
   "source": [
    "movie_reviews_df['term_dict'] = \"\" # initilialise tokenized word list from reviews \n",
    "term_dict = []\n",
    "for i in range(len(movie_reviews_df)):\n",
    "    word_data = movie_reviews_df['reviews'][i] \n",
    "    word_list = nltk.word_tokenize(word_data)\n",
    "    term_dict.append(word_list)\n",
    "movie_reviews_df['term_dict'] = term_dict"
   ]
  },
  {
   "cell_type": "code",
   "execution_count": 93,
   "id": "cb0e697b-c281-4dde-a574-96d052c93630",
   "metadata": {},
   "outputs": [
    {
     "data": {
      "text/html": [
       "<div>\n",
       "<style scoped>\n",
       "    .dataframe tbody tr th:only-of-type {\n",
       "        vertical-align: middle;\n",
       "    }\n",
       "\n",
       "    .dataframe tbody tr th {\n",
       "        vertical-align: top;\n",
       "    }\n",
       "\n",
       "    .dataframe thead th {\n",
       "        text-align: right;\n",
       "    }\n",
       "</style>\n",
       "<table border=\"1\" class=\"dataframe\">\n",
       "  <thead>\n",
       "    <tr style=\"text-align: right;\">\n",
       "      <th></th>\n",
       "      <th>title</th>\n",
       "      <th>user_numeric_rating</th>\n",
       "      <th>reviews</th>\n",
       "      <th>term_dict</th>\n",
       "    </tr>\n",
       "  </thead>\n",
       "  <tbody>\n",
       "    <tr>\n",
       "      <th>0</th>\n",
       "      <td>Jai_Bhim</td>\n",
       "      <td>9.4</td>\n",
       "      <td>there is some serious upvoting for this film h...</td>\n",
       "      <td>[there, is, some, serious, upvoting, for, this...</td>\n",
       "    </tr>\n",
       "    <tr>\n",
       "      <th>1</th>\n",
       "      <td>Soorarai_Pottru</td>\n",
       "      <td>9.3</td>\n",
       "      <td>soorarai pottru 2020 nbrief review a major ach...</td>\n",
       "      <td>[soorarai, pottru, 2020, nbrief, review, a, ma...</td>\n",
       "    </tr>\n",
       "    <tr>\n",
       "      <th>2</th>\n",
       "      <td>The_Shawshank_Redemption</td>\n",
       "      <td>9.3</td>\n",
       "      <td>shawshank redemption is without doubt one of t...</td>\n",
       "      <td>[shawshank, redemption, is, without, doubt, on...</td>\n",
       "    </tr>\n",
       "    <tr>\n",
       "      <th>3</th>\n",
       "      <td>The_Godfather</td>\n",
       "      <td>9.2</td>\n",
       "      <td>up until today i have not bothered to review t...</td>\n",
       "      <td>[up, until, today, i, have, not, bothered, to,...</td>\n",
       "    </tr>\n",
       "    <tr>\n",
       "      <th>4</th>\n",
       "      <td>The_Dark_Knight</td>\n",
       "      <td>9.1</td>\n",
       "      <td>i first need to point out that i generally hat...</td>\n",
       "      <td>[i, first, need, to, point, out, that, i, gene...</td>\n",
       "    </tr>\n",
       "  </tbody>\n",
       "</table>\n",
       "</div>"
      ],
      "text/plain": [
       "                      title  user_numeric_rating  \\\n",
       "0                  Jai_Bhim                  9.4   \n",
       "1           Soorarai_Pottru                  9.3   \n",
       "2  The_Shawshank_Redemption                  9.3   \n",
       "3             The_Godfather                  9.2   \n",
       "4           The_Dark_Knight                  9.1   \n",
       "\n",
       "                                             reviews  \\\n",
       "0  there is some serious upvoting for this film h...   \n",
       "1  soorarai pottru 2020 nbrief review a major ach...   \n",
       "2  shawshank redemption is without doubt one of t...   \n",
       "3  up until today i have not bothered to review t...   \n",
       "4  i first need to point out that i generally hat...   \n",
       "\n",
       "                                           term_dict  \n",
       "0  [there, is, some, serious, upvoting, for, this...  \n",
       "1  [soorarai, pottru, 2020, nbrief, review, a, ma...  \n",
       "2  [shawshank, redemption, is, without, doubt, on...  \n",
       "3  [up, until, today, i, have, not, bothered, to,...  \n",
       "4  [i, first, need, to, point, out, that, i, gene...  "
      ]
     },
     "execution_count": 93,
     "metadata": {},
     "output_type": "execute_result"
    }
   ],
   "source": [
    "movie_reviews_df.head()"
   ]
  },
  {
   "cell_type": "code",
   "execution_count": null,
   "id": "82b594ec-fe4c-4bce-8842-86f5450f2dd9",
   "metadata": {},
   "outputs": [],
   "source": [
    "# movie_reviews_df.to_pickle(\"term_dict.pkl\")\n",
    "\n",
    "# df_new = pd.read_pickle(\"term_dict.pkl\")\n",
    "\n",
    "# # df_new.head()"
   ]
  },
  {
   "cell_type": "code",
   "execution_count": 97,
   "id": "005b97b0-ae24-47a7-8bcd-1233bd57f6fc",
   "metadata": {},
   "outputs": [
    {
     "data": {
      "text/html": [
       "<div>\n",
       "<style scoped>\n",
       "    .dataframe tbody tr th:only-of-type {\n",
       "        vertical-align: middle;\n",
       "    }\n",
       "\n",
       "    .dataframe tbody tr th {\n",
       "        vertical-align: top;\n",
       "    }\n",
       "\n",
       "    .dataframe thead th {\n",
       "        text-align: right;\n",
       "    }\n",
       "</style>\n",
       "<table border=\"1\" class=\"dataframe\">\n",
       "  <thead>\n",
       "    <tr style=\"text-align: right;\">\n",
       "      <th></th>\n",
       "      <th>title</th>\n",
       "      <th>user_numeric_rating</th>\n",
       "      <th>reviews</th>\n",
       "      <th>term_dict</th>\n",
       "    </tr>\n",
       "  </thead>\n",
       "  <tbody>\n",
       "    <tr>\n",
       "      <th>0</th>\n",
       "      <td>Jai_Bhim</td>\n",
       "      <td>9.4</td>\n",
       "      <td>there is some serious upvoting for this film h...</td>\n",
       "      <td>[there, is, some, serious, upvoting, for, this...</td>\n",
       "    </tr>\n",
       "    <tr>\n",
       "      <th>1</th>\n",
       "      <td>Soorarai_Pottru</td>\n",
       "      <td>9.3</td>\n",
       "      <td>soorarai pottru 2020 nbrief review a major ach...</td>\n",
       "      <td>[soorarai, pottru, 2020, nbrief, review, a, ma...</td>\n",
       "    </tr>\n",
       "    <tr>\n",
       "      <th>2</th>\n",
       "      <td>The_Shawshank_Redemption</td>\n",
       "      <td>9.3</td>\n",
       "      <td>shawshank redemption is without doubt one of t...</td>\n",
       "      <td>[shawshank, redemption, is, without, doubt, on...</td>\n",
       "    </tr>\n",
       "    <tr>\n",
       "      <th>3</th>\n",
       "      <td>The_Godfather</td>\n",
       "      <td>9.2</td>\n",
       "      <td>up until today i have not bothered to review t...</td>\n",
       "      <td>[up, until, today, i, have, not, bothered, to,...</td>\n",
       "    </tr>\n",
       "    <tr>\n",
       "      <th>4</th>\n",
       "      <td>The_Dark_Knight</td>\n",
       "      <td>9.1</td>\n",
       "      <td>i first need to point out that i generally hat...</td>\n",
       "      <td>[i, first, need, to, point, out, that, i, gene...</td>\n",
       "    </tr>\n",
       "  </tbody>\n",
       "</table>\n",
       "</div>"
      ],
      "text/plain": [
       "                      title  user_numeric_rating  \\\n",
       "0                  Jai_Bhim                  9.4   \n",
       "1           Soorarai_Pottru                  9.3   \n",
       "2  The_Shawshank_Redemption                  9.3   \n",
       "3             The_Godfather                  9.2   \n",
       "4           The_Dark_Knight                  9.1   \n",
       "\n",
       "                                             reviews  \\\n",
       "0  there is some serious upvoting for this film h...   \n",
       "1  soorarai pottru 2020 nbrief review a major ach...   \n",
       "2  shawshank redemption is without doubt one of t...   \n",
       "3  up until today i have not bothered to review t...   \n",
       "4  i first need to point out that i generally hat...   \n",
       "\n",
       "                                           term_dict  \n",
       "0  [there, is, some, serious, upvoting, for, this...  \n",
       "1  [soorarai, pottru, 2020, nbrief, review, a, ma...  \n",
       "2  [shawshank, redemption, is, without, doubt, on...  \n",
       "3  [up, until, today, i, have, not, bothered, to,...  \n",
       "4  [i, first, need, to, point, out, that, i, gene...  "
      ]
     },
     "execution_count": 97,
     "metadata": {},
     "output_type": "execute_result"
    }
   ],
   "source": [
    "movie_reviews_df.head()"
   ]
  },
  {
   "cell_type": "markdown",
   "id": "34b01d0d",
   "metadata": {},
   "source": [
    "## Remove Stopwords\n",
    "- of reviews"
   ]
  },
  {
   "cell_type": "code",
   "execution_count": 101,
   "id": "7ed8a3b0-4e64-40c4-8396-f7da05388d21",
   "metadata": {},
   "outputs": [
    {
     "data": {
      "text/plain": [
       "'some'"
      ]
     },
     "execution_count": 101,
     "metadata": {},
     "output_type": "execute_result"
    }
   ],
   "source": [
    "movie_reviews_df['term_dict'][0][2]"
   ]
  },
  {
   "cell_type": "code",
   "execution_count": 102,
   "id": "ec667d31-46c1-46ec-a62d-ca7ad63dd6e5",
   "metadata": {},
   "outputs": [],
   "source": [
    "movie_reviews_df['term_dict_sr'] = \"\""
   ]
  },
  {
   "cell_type": "code",
   "execution_count": 103,
   "id": "b8fa9534",
   "metadata": {},
   "outputs": [
    {
     "name": "stderr",
     "output_type": "stream",
     "text": [
      "C:\\Users\\chenw\\anaconda3\\lib\\site-packages\\ipykernel_launcher.py:6: SettingWithCopyWarning: \n",
      "A value is trying to be set on a copy of a slice from a DataFrame\n",
      "\n",
      "See the caveats in the documentation: https://pandas.pydata.org/pandas-docs/stable/user_guide/indexing.html#returning-a-view-versus-a-copy\n",
      "  \n"
     ]
    }
   ],
   "source": [
    "#tokenized_words = 'i like words'.split()  # tokenized word list from reviews \n",
    "stop_words = stopwords.words('english')\n",
    "for i in range(len(movie_reviews_df)):\n",
    "    tokenized_words = movie_reviews_df['term_dict'][i]\n",
    "    new_set = [word for word in tokenized_words if word not in (stop_words)]\n",
    "    movie_reviews_df['term_dict_sr'][i] = new_set"
   ]
  },
  {
   "cell_type": "code",
   "execution_count": 104,
   "id": "b6c76649-027b-4d1b-8df0-ca251f9ee5b7",
   "metadata": {},
   "outputs": [
    {
     "data": {
      "text/html": [
       "<div>\n",
       "<style scoped>\n",
       "    .dataframe tbody tr th:only-of-type {\n",
       "        vertical-align: middle;\n",
       "    }\n",
       "\n",
       "    .dataframe tbody tr th {\n",
       "        vertical-align: top;\n",
       "    }\n",
       "\n",
       "    .dataframe thead th {\n",
       "        text-align: right;\n",
       "    }\n",
       "</style>\n",
       "<table border=\"1\" class=\"dataframe\">\n",
       "  <thead>\n",
       "    <tr style=\"text-align: right;\">\n",
       "      <th></th>\n",
       "      <th>title</th>\n",
       "      <th>user_numeric_rating</th>\n",
       "      <th>reviews</th>\n",
       "      <th>term_dict</th>\n",
       "      <th>term_dict_sr</th>\n",
       "    </tr>\n",
       "  </thead>\n",
       "  <tbody>\n",
       "    <tr>\n",
       "      <th>0</th>\n",
       "      <td>Jai_Bhim</td>\n",
       "      <td>9.4</td>\n",
       "      <td>there is some serious upvoting for this film h...</td>\n",
       "      <td>[there, is, some, serious, upvoting, for, this...</td>\n",
       "      <td>[serious, upvoting, film, imdb, weighted, aver...</td>\n",
       "    </tr>\n",
       "    <tr>\n",
       "      <th>1</th>\n",
       "      <td>Soorarai_Pottru</td>\n",
       "      <td>9.3</td>\n",
       "      <td>soorarai pottru 2020 nbrief review a major ach...</td>\n",
       "      <td>[soorarai, pottru, 2020, nbrief, review, a, ma...</td>\n",
       "      <td>[soorarai, pottru, 2020, nbrief, review, major...</td>\n",
       "    </tr>\n",
       "    <tr>\n",
       "      <th>2</th>\n",
       "      <td>The_Shawshank_Redemption</td>\n",
       "      <td>9.3</td>\n",
       "      <td>shawshank redemption is without doubt one of t...</td>\n",
       "      <td>[shawshank, redemption, is, without, doubt, on...</td>\n",
       "      <td>[shawshank, redemption, without, doubt, one, b...</td>\n",
       "    </tr>\n",
       "    <tr>\n",
       "      <th>3</th>\n",
       "      <td>The_Godfather</td>\n",
       "      <td>9.2</td>\n",
       "      <td>up until today i have not bothered to review t...</td>\n",
       "      <td>[up, until, today, i, have, not, bothered, to,...</td>\n",
       "      <td>[today, bothered, review, godfather, everyone,...</td>\n",
       "    </tr>\n",
       "    <tr>\n",
       "      <th>4</th>\n",
       "      <td>The_Dark_Knight</td>\n",
       "      <td>9.1</td>\n",
       "      <td>i first need to point out that i generally hat...</td>\n",
       "      <td>[i, first, need, to, point, out, that, i, gene...</td>\n",
       "      <td>[first, need, point, generally, hate, action, ...</td>\n",
       "    </tr>\n",
       "  </tbody>\n",
       "</table>\n",
       "</div>"
      ],
      "text/plain": [
       "                      title  user_numeric_rating  \\\n",
       "0                  Jai_Bhim                  9.4   \n",
       "1           Soorarai_Pottru                  9.3   \n",
       "2  The_Shawshank_Redemption                  9.3   \n",
       "3             The_Godfather                  9.2   \n",
       "4           The_Dark_Knight                  9.1   \n",
       "\n",
       "                                             reviews  \\\n",
       "0  there is some serious upvoting for this film h...   \n",
       "1  soorarai pottru 2020 nbrief review a major ach...   \n",
       "2  shawshank redemption is without doubt one of t...   \n",
       "3  up until today i have not bothered to review t...   \n",
       "4  i first need to point out that i generally hat...   \n",
       "\n",
       "                                           term_dict  \\\n",
       "0  [there, is, some, serious, upvoting, for, this...   \n",
       "1  [soorarai, pottru, 2020, nbrief, review, a, ma...   \n",
       "2  [shawshank, redemption, is, without, doubt, on...   \n",
       "3  [up, until, today, i, have, not, bothered, to,...   \n",
       "4  [i, first, need, to, point, out, that, i, gene...   \n",
       "\n",
       "                                        term_dict_sr  \n",
       "0  [serious, upvoting, film, imdb, weighted, aver...  \n",
       "1  [soorarai, pottru, 2020, nbrief, review, major...  \n",
       "2  [shawshank, redemption, without, doubt, one, b...  \n",
       "3  [today, bothered, review, godfather, everyone,...  \n",
       "4  [first, need, point, generally, hate, action, ...  "
      ]
     },
     "execution_count": 104,
     "metadata": {},
     "output_type": "execute_result"
    }
   ],
   "source": [
    "movie_reviews_df.head()"
   ]
  },
  {
   "cell_type": "code",
   "execution_count": 180,
   "id": "35dc2cf0-0a05-49e9-a15a-4fa9b520e614",
   "metadata": {},
   "outputs": [],
   "source": [
    "# movie_reviews_df.to_pickle(\"term_dict_sr.pkl\")\n",
    "\n",
    "# df_new1 = pd.read_pickle(\"term_dict_sr.pkl\")\n",
    "\n",
    "# df_new1.head()"
   ]
  },
  {
   "cell_type": "markdown",
   "id": "061a9878",
   "metadata": {},
   "source": [
    "## Stemming"
   ]
  },
  {
   "cell_type": "code",
   "execution_count": 108,
   "id": "a33132e4",
   "metadata": {},
   "outputs": [],
   "source": [
    "from nltk.stem import PorterStemmer\n",
    "# from nltk.stem import LancasterStemmer\n",
    "\n",
    "porter = PorterStemmer()"
   ]
  },
  {
   "cell_type": "code",
   "execution_count": 110,
   "id": "bbb5f370",
   "metadata": {},
   "outputs": [],
   "source": [
    "def stemming(data):\n",
    "    stemmer= PorterStemmer()\n",
    "    \n",
    "    tokens = word_tokenize(str(data))\n",
    "    new_text = \"\"\n",
    "    for w in tokens:\n",
    "        new_text = new_text + \" \" + stemmer.stem(w)\n",
    "    return new_text"
   ]
  },
  {
   "cell_type": "code",
   "execution_count": 112,
   "id": "1b686a87",
   "metadata": {},
   "outputs": [],
   "source": [
    "movie_reviews_df['term_dict_stemmed'] = \"\""
   ]
  },
  {
   "cell_type": "code",
   "execution_count": 115,
   "id": "8b1fa45f",
   "metadata": {},
   "outputs": [
    {
     "name": "stderr",
     "output_type": "stream",
     "text": [
      "C:\\Users\\chenw\\anaconda3\\lib\\site-packages\\ipykernel_launcher.py:5: SettingWithCopyWarning: \n",
      "A value is trying to be set on a copy of a slice from a DataFrame\n",
      "\n",
      "See the caveats in the documentation: https://pandas.pydata.org/pandas-docs/stable/user_guide/indexing.html#returning-a-view-versus-a-copy\n",
      "  \"\"\"\n"
     ]
    }
   ],
   "source": [
    "for i in range(len(movie_reviews_df)):\n",
    "    stem_collection = []\n",
    "    for word in movie_reviews_df['term_dict_sr'][i]:\n",
    "        stem_collection.append(porter.stem(word))\n",
    "    movie_reviews_df['term_dict_stemmed'][i] = stem_collection"
   ]
  },
  {
   "cell_type": "code",
   "execution_count": 116,
   "id": "c61fe54a-8f64-4caf-b5e5-44f89184d2d4",
   "metadata": {},
   "outputs": [
    {
     "data": {
      "text/plain": [
       "0    [seriou, upvot, film, imdb, weight, averag, fi...\n",
       "1    [soorarai, pottru, 2020, nbrief, review, major...\n",
       "2    [shawshank, redempt, without, doubt, one, best...\n",
       "3    [today, bother, review, godfath, everyon, pret...\n",
       "4    [first, need, point, gener, hate, action, film...\n",
       "Name: term_dict_stemmed, dtype: object"
      ]
     },
     "execution_count": 116,
     "metadata": {},
     "output_type": "execute_result"
    }
   ],
   "source": [
    "movie_reviews_df['term_dict_stemmed'].head()"
   ]
  },
  {
   "cell_type": "code",
   "execution_count": 117,
   "id": "43263b62",
   "metadata": {},
   "outputs": [
    {
     "name": "stdout",
     "output_type": "stream",
     "text": [
      "<class 'pandas.core.frame.DataFrame'>\n",
      "RangeIndex: 998 entries, 0 to 997\n",
      "Data columns (total 6 columns):\n",
      " #   Column               Non-Null Count  Dtype  \n",
      "---  ------               --------------  -----  \n",
      " 0   title                998 non-null    object \n",
      " 1   user_numeric_rating  998 non-null    float64\n",
      " 2   reviews              998 non-null    object \n",
      " 3   term_dict            998 non-null    object \n",
      " 4   term_dict_sr         998 non-null    object \n",
      " 5   term_dict_stemmed    998 non-null    object \n",
      "dtypes: float64(1), object(5)\n",
      "memory usage: 46.9+ KB\n"
     ]
    }
   ],
   "source": [
    "movie_reviews_df.info()"
   ]
  },
  {
   "cell_type": "code",
   "execution_count": 120,
   "id": "529b5aad-021a-4355-9e4d-11f82357ee09",
   "metadata": {},
   "outputs": [],
   "source": [
    "# movie_reviews_df.to_pickle(\"term_dict_stemmed.pkl\")\n",
    "\n",
    "# df_new2 = pd.read_pickle(\"term_dict_stemmed.pkl\")"
   ]
  },
  {
   "cell_type": "code",
   "execution_count": 121,
   "id": "015fd104-a1c2-4ca6-9bc2-6860259e670e",
   "metadata": {},
   "outputs": [
    {
     "data": {
      "text/html": [
       "<div>\n",
       "<style scoped>\n",
       "    .dataframe tbody tr th:only-of-type {\n",
       "        vertical-align: middle;\n",
       "    }\n",
       "\n",
       "    .dataframe tbody tr th {\n",
       "        vertical-align: top;\n",
       "    }\n",
       "\n",
       "    .dataframe thead th {\n",
       "        text-align: right;\n",
       "    }\n",
       "</style>\n",
       "<table border=\"1\" class=\"dataframe\">\n",
       "  <thead>\n",
       "    <tr style=\"text-align: right;\">\n",
       "      <th></th>\n",
       "      <th>title</th>\n",
       "      <th>user_numeric_rating</th>\n",
       "      <th>reviews</th>\n",
       "      <th>term_dict</th>\n",
       "      <th>term_dict_sr</th>\n",
       "      <th>term_dict_stemmed</th>\n",
       "    </tr>\n",
       "  </thead>\n",
       "  <tbody>\n",
       "    <tr>\n",
       "      <th>0</th>\n",
       "      <td>Jai_Bhim</td>\n",
       "      <td>9.4</td>\n",
       "      <td>there is some serious upvoting for this film h...</td>\n",
       "      <td>[there, is, some, serious, upvoting, for, this...</td>\n",
       "      <td>[serious, upvoting, film, imdb, weighted, aver...</td>\n",
       "      <td>[seriou, upvot, film, imdb, weight, averag, fi...</td>\n",
       "    </tr>\n",
       "    <tr>\n",
       "      <th>1</th>\n",
       "      <td>Soorarai_Pottru</td>\n",
       "      <td>9.3</td>\n",
       "      <td>soorarai pottru 2020 nbrief review a major ach...</td>\n",
       "      <td>[soorarai, pottru, 2020, nbrief, review, a, ma...</td>\n",
       "      <td>[soorarai, pottru, 2020, nbrief, review, major...</td>\n",
       "      <td>[soorarai, pottru, 2020, nbrief, review, major...</td>\n",
       "    </tr>\n",
       "    <tr>\n",
       "      <th>2</th>\n",
       "      <td>The_Shawshank_Redemption</td>\n",
       "      <td>9.3</td>\n",
       "      <td>shawshank redemption is without doubt one of t...</td>\n",
       "      <td>[shawshank, redemption, is, without, doubt, on...</td>\n",
       "      <td>[shawshank, redemption, without, doubt, one, b...</td>\n",
       "      <td>[shawshank, redempt, without, doubt, one, best...</td>\n",
       "    </tr>\n",
       "    <tr>\n",
       "      <th>3</th>\n",
       "      <td>The_Godfather</td>\n",
       "      <td>9.2</td>\n",
       "      <td>up until today i have not bothered to review t...</td>\n",
       "      <td>[up, until, today, i, have, not, bothered, to,...</td>\n",
       "      <td>[today, bothered, review, godfather, everyone,...</td>\n",
       "      <td>[today, bother, review, godfath, everyon, pret...</td>\n",
       "    </tr>\n",
       "    <tr>\n",
       "      <th>4</th>\n",
       "      <td>The_Dark_Knight</td>\n",
       "      <td>9.1</td>\n",
       "      <td>i first need to point out that i generally hat...</td>\n",
       "      <td>[i, first, need, to, point, out, that, i, gene...</td>\n",
       "      <td>[first, need, point, generally, hate, action, ...</td>\n",
       "      <td>[first, need, point, gener, hate, action, film...</td>\n",
       "    </tr>\n",
       "  </tbody>\n",
       "</table>\n",
       "</div>"
      ],
      "text/plain": [
       "                      title  user_numeric_rating  \\\n",
       "0                  Jai_Bhim                  9.4   \n",
       "1           Soorarai_Pottru                  9.3   \n",
       "2  The_Shawshank_Redemption                  9.3   \n",
       "3             The_Godfather                  9.2   \n",
       "4           The_Dark_Knight                  9.1   \n",
       "\n",
       "                                             reviews  \\\n",
       "0  there is some serious upvoting for this film h...   \n",
       "1  soorarai pottru 2020 nbrief review a major ach...   \n",
       "2  shawshank redemption is without doubt one of t...   \n",
       "3  up until today i have not bothered to review t...   \n",
       "4  i first need to point out that i generally hat...   \n",
       "\n",
       "                                           term_dict  \\\n",
       "0  [there, is, some, serious, upvoting, for, this...   \n",
       "1  [soorarai, pottru, 2020, nbrief, review, a, ma...   \n",
       "2  [shawshank, redemption, is, without, doubt, on...   \n",
       "3  [up, until, today, i, have, not, bothered, to,...   \n",
       "4  [i, first, need, to, point, out, that, i, gene...   \n",
       "\n",
       "                                        term_dict_sr  \\\n",
       "0  [serious, upvoting, film, imdb, weighted, aver...   \n",
       "1  [soorarai, pottru, 2020, nbrief, review, major...   \n",
       "2  [shawshank, redemption, without, doubt, one, b...   \n",
       "3  [today, bothered, review, godfather, everyone,...   \n",
       "4  [first, need, point, generally, hate, action, ...   \n",
       "\n",
       "                                   term_dict_stemmed  \n",
       "0  [seriou, upvot, film, imdb, weight, averag, fi...  \n",
       "1  [soorarai, pottru, 2020, nbrief, review, major...  \n",
       "2  [shawshank, redempt, without, doubt, one, best...  \n",
       "3  [today, bother, review, godfath, everyon, pret...  \n",
       "4  [first, need, point, gener, hate, action, film...  "
      ]
     },
     "execution_count": 121,
     "metadata": {},
     "output_type": "execute_result"
    }
   ],
   "source": [
    "# df_new2.head()"
   ]
  },
  {
   "cell_type": "code",
   "execution_count": 122,
   "id": "2df156f4-76b9-42a3-962e-15f02cd54c77",
   "metadata": {},
   "outputs": [
    {
     "data": {
      "text/html": [
       "<div>\n",
       "<style scoped>\n",
       "    .dataframe tbody tr th:only-of-type {\n",
       "        vertical-align: middle;\n",
       "    }\n",
       "\n",
       "    .dataframe tbody tr th {\n",
       "        vertical-align: top;\n",
       "    }\n",
       "\n",
       "    .dataframe thead th {\n",
       "        text-align: right;\n",
       "    }\n",
       "</style>\n",
       "<table border=\"1\" class=\"dataframe\">\n",
       "  <thead>\n",
       "    <tr style=\"text-align: right;\">\n",
       "      <th></th>\n",
       "      <th>title</th>\n",
       "      <th>user_numeric_rating</th>\n",
       "      <th>reviews</th>\n",
       "      <th>term_dict</th>\n",
       "      <th>term_dict_sr</th>\n",
       "      <th>term_dict_stemmed</th>\n",
       "    </tr>\n",
       "  </thead>\n",
       "  <tbody>\n",
       "    <tr>\n",
       "      <th>0</th>\n",
       "      <td>Jai_Bhim</td>\n",
       "      <td>9.4</td>\n",
       "      <td>there is some serious upvoting for this film h...</td>\n",
       "      <td>[there, is, some, serious, upvoting, for, this...</td>\n",
       "      <td>[serious, upvoting, film, imdb, weighted, aver...</td>\n",
       "      <td>[seriou, upvot, film, imdb, weight, averag, fi...</td>\n",
       "    </tr>\n",
       "    <tr>\n",
       "      <th>1</th>\n",
       "      <td>Soorarai_Pottru</td>\n",
       "      <td>9.3</td>\n",
       "      <td>soorarai pottru 2020 nbrief review a major ach...</td>\n",
       "      <td>[soorarai, pottru, 2020, nbrief, review, a, ma...</td>\n",
       "      <td>[soorarai, pottru, 2020, nbrief, review, major...</td>\n",
       "      <td>[soorarai, pottru, 2020, nbrief, review, major...</td>\n",
       "    </tr>\n",
       "    <tr>\n",
       "      <th>2</th>\n",
       "      <td>The_Shawshank_Redemption</td>\n",
       "      <td>9.3</td>\n",
       "      <td>shawshank redemption is without doubt one of t...</td>\n",
       "      <td>[shawshank, redemption, is, without, doubt, on...</td>\n",
       "      <td>[shawshank, redemption, without, doubt, one, b...</td>\n",
       "      <td>[shawshank, redempt, without, doubt, one, best...</td>\n",
       "    </tr>\n",
       "    <tr>\n",
       "      <th>3</th>\n",
       "      <td>The_Godfather</td>\n",
       "      <td>9.2</td>\n",
       "      <td>up until today i have not bothered to review t...</td>\n",
       "      <td>[up, until, today, i, have, not, bothered, to,...</td>\n",
       "      <td>[today, bothered, review, godfather, everyone,...</td>\n",
       "      <td>[today, bother, review, godfath, everyon, pret...</td>\n",
       "    </tr>\n",
       "    <tr>\n",
       "      <th>4</th>\n",
       "      <td>The_Dark_Knight</td>\n",
       "      <td>9.1</td>\n",
       "      <td>i first need to point out that i generally hat...</td>\n",
       "      <td>[i, first, need, to, point, out, that, i, gene...</td>\n",
       "      <td>[first, need, point, generally, hate, action, ...</td>\n",
       "      <td>[first, need, point, gener, hate, action, film...</td>\n",
       "    </tr>\n",
       "  </tbody>\n",
       "</table>\n",
       "</div>"
      ],
      "text/plain": [
       "                      title  user_numeric_rating  \\\n",
       "0                  Jai_Bhim                  9.4   \n",
       "1           Soorarai_Pottru                  9.3   \n",
       "2  The_Shawshank_Redemption                  9.3   \n",
       "3             The_Godfather                  9.2   \n",
       "4           The_Dark_Knight                  9.1   \n",
       "\n",
       "                                             reviews  \\\n",
       "0  there is some serious upvoting for this film h...   \n",
       "1  soorarai pottru 2020 nbrief review a major ach...   \n",
       "2  shawshank redemption is without doubt one of t...   \n",
       "3  up until today i have not bothered to review t...   \n",
       "4  i first need to point out that i generally hat...   \n",
       "\n",
       "                                           term_dict  \\\n",
       "0  [there, is, some, serious, upvoting, for, this...   \n",
       "1  [soorarai, pottru, 2020, nbrief, review, a, ma...   \n",
       "2  [shawshank, redemption, is, without, doubt, on...   \n",
       "3  [up, until, today, i, have, not, bothered, to,...   \n",
       "4  [i, first, need, to, point, out, that, i, gene...   \n",
       "\n",
       "                                        term_dict_sr  \\\n",
       "0  [serious, upvoting, film, imdb, weighted, aver...   \n",
       "1  [soorarai, pottru, 2020, nbrief, review, major...   \n",
       "2  [shawshank, redemption, without, doubt, one, b...   \n",
       "3  [today, bothered, review, godfather, everyone,...   \n",
       "4  [first, need, point, generally, hate, action, ...   \n",
       "\n",
       "                                   term_dict_stemmed  \n",
       "0  [seriou, upvot, film, imdb, weight, averag, fi...  \n",
       "1  [soorarai, pottru, 2020, nbrief, review, major...  \n",
       "2  [shawshank, redempt, without, doubt, one, best...  \n",
       "3  [today, bother, review, godfath, everyon, pret...  \n",
       "4  [first, need, point, gener, hate, action, film...  "
      ]
     },
     "execution_count": 122,
     "metadata": {},
     "output_type": "execute_result"
    }
   ],
   "source": [
    "movie_reviews_df.head()"
   ]
  },
  {
   "cell_type": "markdown",
   "id": "21ebb50b-0a2c-419b-9d34-ac811b6d37c2",
   "metadata": {},
   "source": [
    "# Ranked Retrieval\n",
    "- by cosine similarity (higher similarity between document and query means higher cosine similarity score)"
   ]
  },
  {
   "cell_type": "code",
   "execution_count": 123,
   "id": "a055c3b8",
   "metadata": {},
   "outputs": [],
   "source": [
    "# def preprocess(data):\n",
    "#     data = convert_lower_case(data)\n",
    "#     data = strip_html_tags(data)\n",
    "#     data = expand_contractions(data)\n",
    "#     data = remove_punctuation(data)\n",
    "#     data = remove_numbers(data)\n",
    "#     data = correct_spellings(data)\n",
    "#     # data = remove_accented_chars(data)\n",
    "#     data = remove_stop_words(data)\n",
    "#     data = stemming(data)\n",
    "#     return data"
   ]
  },
  {
   "cell_type": "code",
   "execution_count": 124,
   "id": "f5bd1b78-2263-46d7-87fd-718b7fc3d199",
   "metadata": {},
   "outputs": [
    {
     "data": {
      "text/html": [
       "<div>\n",
       "<style scoped>\n",
       "    .dataframe tbody tr th:only-of-type {\n",
       "        vertical-align: middle;\n",
       "    }\n",
       "\n",
       "    .dataframe tbody tr th {\n",
       "        vertical-align: top;\n",
       "    }\n",
       "\n",
       "    .dataframe thead th {\n",
       "        text-align: right;\n",
       "    }\n",
       "</style>\n",
       "<table border=\"1\" class=\"dataframe\">\n",
       "  <thead>\n",
       "    <tr style=\"text-align: right;\">\n",
       "      <th></th>\n",
       "      <th>title</th>\n",
       "      <th>user_numeric_rating</th>\n",
       "      <th>reviews</th>\n",
       "      <th>term_dict</th>\n",
       "      <th>term_dict_sr</th>\n",
       "      <th>term_dict_stemmed</th>\n",
       "    </tr>\n",
       "  </thead>\n",
       "  <tbody>\n",
       "    <tr>\n",
       "      <th>0</th>\n",
       "      <td>Jai_Bhim</td>\n",
       "      <td>9.4</td>\n",
       "      <td>there is some serious upvoting for this film h...</td>\n",
       "      <td>[there, is, some, serious, upvoting, for, this...</td>\n",
       "      <td>[serious, upvoting, film, imdb, weighted, aver...</td>\n",
       "      <td>[seriou, upvot, film, imdb, weight, averag, fi...</td>\n",
       "    </tr>\n",
       "    <tr>\n",
       "      <th>1</th>\n",
       "      <td>Soorarai_Pottru</td>\n",
       "      <td>9.3</td>\n",
       "      <td>soorarai pottru 2020 nbrief review a major ach...</td>\n",
       "      <td>[soorarai, pottru, 2020, nbrief, review, a, ma...</td>\n",
       "      <td>[soorarai, pottru, 2020, nbrief, review, major...</td>\n",
       "      <td>[soorarai, pottru, 2020, nbrief, review, major...</td>\n",
       "    </tr>\n",
       "    <tr>\n",
       "      <th>2</th>\n",
       "      <td>The_Shawshank_Redemption</td>\n",
       "      <td>9.3</td>\n",
       "      <td>shawshank redemption is without doubt one of t...</td>\n",
       "      <td>[shawshank, redemption, is, without, doubt, on...</td>\n",
       "      <td>[shawshank, redemption, without, doubt, one, b...</td>\n",
       "      <td>[shawshank, redempt, without, doubt, one, best...</td>\n",
       "    </tr>\n",
       "    <tr>\n",
       "      <th>3</th>\n",
       "      <td>The_Godfather</td>\n",
       "      <td>9.2</td>\n",
       "      <td>up until today i have not bothered to review t...</td>\n",
       "      <td>[up, until, today, i, have, not, bothered, to,...</td>\n",
       "      <td>[today, bothered, review, godfather, everyone,...</td>\n",
       "      <td>[today, bother, review, godfath, everyon, pret...</td>\n",
       "    </tr>\n",
       "    <tr>\n",
       "      <th>4</th>\n",
       "      <td>The_Dark_Knight</td>\n",
       "      <td>9.1</td>\n",
       "      <td>i first need to point out that i generally hat...</td>\n",
       "      <td>[i, first, need, to, point, out, that, i, gene...</td>\n",
       "      <td>[first, need, point, generally, hate, action, ...</td>\n",
       "      <td>[first, need, point, gener, hate, action, film...</td>\n",
       "    </tr>\n",
       "  </tbody>\n",
       "</table>\n",
       "</div>"
      ],
      "text/plain": [
       "                      title  user_numeric_rating  \\\n",
       "0                  Jai_Bhim                  9.4   \n",
       "1           Soorarai_Pottru                  9.3   \n",
       "2  The_Shawshank_Redemption                  9.3   \n",
       "3             The_Godfather                  9.2   \n",
       "4           The_Dark_Knight                  9.1   \n",
       "\n",
       "                                             reviews  \\\n",
       "0  there is some serious upvoting for this film h...   \n",
       "1  soorarai pottru 2020 nbrief review a major ach...   \n",
       "2  shawshank redemption is without doubt one of t...   \n",
       "3  up until today i have not bothered to review t...   \n",
       "4  i first need to point out that i generally hat...   \n",
       "\n",
       "                                           term_dict  \\\n",
       "0  [there, is, some, serious, upvoting, for, this...   \n",
       "1  [soorarai, pottru, 2020, nbrief, review, a, ma...   \n",
       "2  [shawshank, redemption, is, without, doubt, on...   \n",
       "3  [up, until, today, i, have, not, bothered, to,...   \n",
       "4  [i, first, need, to, point, out, that, i, gene...   \n",
       "\n",
       "                                        term_dict_sr  \\\n",
       "0  [serious, upvoting, film, imdb, weighted, aver...   \n",
       "1  [soorarai, pottru, 2020, nbrief, review, major...   \n",
       "2  [shawshank, redemption, without, doubt, one, b...   \n",
       "3  [today, bothered, review, godfather, everyone,...   \n",
       "4  [first, need, point, generally, hate, action, ...   \n",
       "\n",
       "                                   term_dict_stemmed  \n",
       "0  [seriou, upvot, film, imdb, weight, averag, fi...  \n",
       "1  [soorarai, pottru, 2020, nbrief, review, major...  \n",
       "2  [shawshank, redempt, without, doubt, one, best...  \n",
       "3  [today, bother, review, godfath, everyon, pret...  \n",
       "4  [first, need, point, gener, hate, action, film...  "
      ]
     },
     "execution_count": 124,
     "metadata": {},
     "output_type": "execute_result"
    }
   ],
   "source": [
    "movie_reviews_df.head()"
   ]
  },
  {
   "cell_type": "code",
   "execution_count": 125,
   "id": "44911637-19e5-43ce-9cd2-1eb6b3794488",
   "metadata": {},
   "outputs": [],
   "source": [
    "# # Evaluate only on \n",
    "# movie_reviews_df = movie_reviews_df[0:100]"
   ]
  },
  {
   "cell_type": "code",
   "execution_count": 126,
   "id": "4486e3ac-2820-4ef4-996b-c5ecb62cc29d",
   "metadata": {},
   "outputs": [
    {
     "data": {
      "text/plain": [
       "998"
      ]
     },
     "execution_count": 126,
     "metadata": {},
     "output_type": "execute_result"
    }
   ],
   "source": [
    "len(movie_reviews_df)"
   ]
  },
  {
   "cell_type": "code",
   "execution_count": 127,
   "id": "7723f41b-e5b5-4044-a0c3-db4d38bf0762",
   "metadata": {},
   "outputs": [
    {
     "data": {
      "text/plain": [
       "0      [seriou, upvot, film, imdb, weight, averag, fi...\n",
       "1      [soorarai, pottru, 2020, nbrief, review, major...\n",
       "2      [shawshank, redempt, without, doubt, one, best...\n",
       "3      [today, bother, review, godfath, everyon, pret...\n",
       "4      [first, need, point, gener, hate, action, film...\n",
       "                             ...                        \n",
       "993    [averag, film, masquerad, great, blame, blake,...\n",
       "994    [gener, fan, suspens, film, involv, sick, twis...\n",
       "995    [pretti, good, horrorsuspens, filmwith, defini...\n",
       "996    [film, young, ladi, sabrina, audrey, hepburn, ...\n",
       "997    [good, wartim, soap, operawith, stronger, emph...\n",
       "Name: term_dict_stemmed, Length: 998, dtype: object"
      ]
     },
     "execution_count": 127,
     "metadata": {},
     "output_type": "execute_result"
    }
   ],
   "source": [
    "movie_reviews_df['term_dict_stemmed']"
   ]
  },
  {
   "cell_type": "code",
   "execution_count": 128,
   "id": "e4e782a4-edf5-46bd-9629-e8cbc496e022",
   "metadata": {},
   "outputs": [],
   "source": [
    "# movie_reviews_df['term_dict_stemmed'].to_pickle(\"stemmed_only.pkl\")\n",
    "\n",
    "# stemmed_only = pd.read_pickle(\"stemmed_only.pkl\")\n",
    "\n",
    "# stemmed_only"
   ]
  },
  {
   "cell_type": "code",
   "execution_count": null,
   "id": "3781cbfb-4bbb-4b99-aafd-2cb261226ee9",
   "metadata": {},
   "outputs": [],
   "source": []
  },
  {
   "cell_type": "code",
   "execution_count": 131,
   "id": "2a60c003",
   "metadata": {},
   "outputs": [],
   "source": [
    "def doc_freq(word):\n",
    "    c = 0\n",
    "    try:\n",
    "        c = DF[word]\n",
    "    except:\n",
    "        pass\n",
    "    return c"
   ]
  },
  {
   "cell_type": "markdown",
   "id": "a0f35c72-b9f8-4657-b5c1-f00f73145cd2",
   "metadata": {},
   "source": [
    "## Corpus Analysis"
   ]
  },
  {
   "cell_type": "code",
   "execution_count": 135,
   "id": "48c6ac9e-bdfd-4b3e-972a-c1b02fbcb0cb",
   "metadata": {},
   "outputs": [
    {
     "data": {
      "text/plain": [
       "4106036"
      ]
     },
     "execution_count": 135,
     "metadata": {},
     "output_type": "execute_result"
    }
   ],
   "source": [
    "# Total number of terms in corpus:\n",
    "corpus_total = 0\n",
    "for i in range(len(movie_reviews_df)):\n",
    "    corpus_total += len(movie_reviews_df['term_dict_stemmed'][i])\n",
    "corpus_total"
   ]
  },
  {
   "cell_type": "code",
   "execution_count": 136,
   "id": "1abd837a-0181-4dfe-b86e-fc0fed46ef83",
   "metadata": {},
   "outputs": [
    {
     "data": {
      "text/plain": [
       "126388"
      ]
     },
     "execution_count": 136,
     "metadata": {},
     "output_type": "execute_result"
    }
   ],
   "source": [
    "# Total number of unique terms in corpus\n",
    "# corpus_total_unique = 0\n",
    "corpus = []\n",
    "for i in range(len(movie_reviews_df)):\n",
    "    # to append each stemmed collection from all rows \n",
    "    corpus.extend(movie_reviews_df['term_dict_stemmed'][i])\n",
    "corpus_total_unique = len(set(corpus))\n",
    "corpus_total_unique"
   ]
  },
  {
   "cell_type": "markdown",
   "id": "a05643bf-01dd-42e3-a603-2cad65f4218e",
   "metadata": {},
   "source": [
    "# Calculating TF-IDF for all movies (docs) using  stemmed words"
   ]
  },
  {
   "cell_type": "markdown",
   "id": "0e42ac50-b768-4856-8fb8-b81d6222938f",
   "metadata": {},
   "source": [
    "## To create inverted index DF "
   ]
  },
  {
   "cell_type": "code",
   "execution_count": 137,
   "id": "fa9aaa82-710c-4664-8352-2f3831b9230c",
   "metadata": {},
   "outputs": [],
   "source": [
    "# Postings Lists\n",
    "\n",
    "DF2 = {} #(DF2 is a dict with key = word, value = list of doc ids)\n",
    "for i in range(len(movie_reviews_df['term_dict_stemmed'])):\n",
    "    tokens = movie_reviews_df['term_dict_stemmed'][i]\n",
    "    for w in tokens:\n",
    "        try:\n",
    "            DF2[w].add(i)\n",
    "        except:\n",
    "            DF2[w] = {i}\n",
    "# DF2"
   ]
  },
  {
   "cell_type": "code",
   "execution_count": 140,
   "id": "e912d611-cdc9-4ed7-a1e0-bdcf7e12effe",
   "metadata": {},
   "outputs": [],
   "source": [
    "with open('DF2.pkl', 'wb') as handle:\n",
    "    pickle.dump(DF2, handle, protocol=pickle.HIGHEST_PROTOCOL)"
   ]
  },
  {
   "cell_type": "code",
   "execution_count": 141,
   "id": "8ab2f847-32d7-46e3-8be3-6140c759f0a9",
   "metadata": {},
   "outputs": [],
   "source": [
    "with open('DF2.pkl', 'rb') as handle:\n",
    "    DF2_ = pickle.load(handle)"
   ]
  },
  {
   "cell_type": "code",
   "execution_count": 145,
   "id": "32b3b8c6-8603-4d75-b3b5-d7334cfab3ad",
   "metadata": {},
   "outputs": [
    {
     "data": {
      "text/plain": [
       "seriou           {0, 2, 3, 4, 5, 6, 8, 9, 10, 11, 12, 14, 16, 1...\n",
       "upvot                                                          {0}\n",
       "film             {0, 1, 2, 3, 4, 5, 6, 7, 8, 9, 10, 11, 12, 13,...\n",
       "imdb             {0, 2, 3, 4, 5, 6, 7, 8, 10, 11, 12, 15, 16, 1...\n",
       "weight           {0, 517, 519, 7, 12, 13, 14, 525, 528, 24, 27,...\n",
       "                                       ...                        \n",
       "tractort                                                     {997}\n",
       "tripper                                                      {997}\n",
       "screenfrom                                                   {997}\n",
       "barrackspearl                                                {997}\n",
       "prewittlac                                                   {997}\n",
       "Length: 126388, dtype: object"
      ]
     },
     "execution_count": 145,
     "metadata": {},
     "output_type": "execute_result"
    }
   ],
   "source": [
    "s  = pd.Series(DF2_,index=DF2_.keys())\n",
    "s"
   ]
  },
  {
   "cell_type": "markdown",
   "id": "e74bc415-01b7-45f8-add0-ad97228e7783",
   "metadata": {},
   "source": [
    "## Inverted Index DF"
   ]
  },
  {
   "cell_type": "code",
   "execution_count": 154,
   "id": "7b04108b",
   "metadata": {},
   "outputs": [],
   "source": [
    "# to calculate document frequency DF\n",
    "DF = {} # DF is a dict with key = word, value = count of numer of movies(docs) the word appears in  \n",
    "for i in DF2:\n",
    "    DF[i] = len(DF2[i])\n",
    "    \n",
    "# DF"
   ]
  },
  {
   "cell_type": "code",
   "execution_count": 159,
   "id": "250b7af1-a603-43ae-9aa9-8fe6699cb158",
   "metadata": {},
   "outputs": [],
   "source": [
    "# with open('DF.pkl', 'wb') as handle:\n",
    "#     pickle.dump(DF, handle, protocol=pickle.HIGHEST_PROTOCOL)\n",
    "\n",
    "# with open('DF.pkl', 'rb') as handle:\n",
    "#     DF_ = pickle.load(handle)"
   ]
  },
  {
   "cell_type": "code",
   "execution_count": 161,
   "id": "da8364bb-ba1b-4c0d-b698-16789c83c9e0",
   "metadata": {},
   "outputs": [],
   "source": [
    "# DF_"
   ]
  },
  {
   "cell_type": "code",
   "execution_count": null,
   "id": "c9f0e4f7-57d0-4565-9369-c48fe94c2a9b",
   "metadata": {},
   "outputs": [],
   "source": []
  },
  {
   "cell_type": "code",
   "execution_count": 162,
   "id": "2cdfcbe4",
   "metadata": {},
   "outputs": [
    {
     "data": {
      "text/plain": [
       "126388"
      ]
     },
     "execution_count": 162,
     "metadata": {},
     "output_type": "execute_result"
    }
   ],
   "source": [
    "# all unique words that exist in our corpus/vocab \n",
    "total_vocab = [x for x in DF]\n",
    "total_vocab_size = len(total_vocab)\n",
    "total_vocab_size\n",
    "# there are 125999 words in our corpus"
   ]
  },
  {
   "cell_type": "code",
   "execution_count": 164,
   "id": "633fed3e",
   "metadata": {},
   "outputs": [],
   "source": [
    "# counter = Counter(tokens)\n",
    "# words_count = len(tokens)\n",
    "N = len(movie_reviews_df)\n",
    "doc = 0\n",
    "tf_idf = {}\n",
    "for i in range(N):\n",
    "    tokens = movie_reviews_df['term_dict_stemmed'][i]\n",
    "    counter = Counter(tokens + movie_reviews_df['term_dict_stemmed'][i])\n",
    "    words_count = len(tokens + movie_reviews_df['term_dict_stemmed'][i])\n",
    "    for token in np.unique(tokens):\n",
    "        \n",
    "        tf = counter[token]/words_count\n",
    "        df = doc_freq(token)\n",
    "        idf = np.log((N+1)/(df+1))\n",
    "        \n",
    "        tf_idf[doc, token] = tf*idf\n",
    "\n",
    "    doc += 1"
   ]
  },
  {
   "cell_type": "code",
   "execution_count": 165,
   "id": "33a8e1dc",
   "metadata": {},
   "outputs": [],
   "source": [
    "alpha = 0.3\n",
    "for i in tf_idf:\n",
    "    tf_idf[i] *= alpha"
   ]
  },
  {
   "cell_type": "code",
   "execution_count": 166,
   "id": "79eab946",
   "metadata": {},
   "outputs": [],
   "source": [
    "# for i in tf_idf:\n",
    "#     tf_idf[i] *= alpha"
   ]
  },
  {
   "cell_type": "code",
   "execution_count": 167,
   "id": "104c151f-2b9c-4be6-93d3-5104863cd31c",
   "metadata": {},
   "outputs": [],
   "source": [
    "# with open('TFIDF.pkl', 'wb') as handle:\n",
    "#     pickle.dump(tf_idf, handle, protocol=pickle.HIGHEST_PROTOCOL)\n",
    "\n",
    "# with open('TFIDF.pkl', 'rb') as handle:\n",
    "#     tf_idf_ = pickle.load(handle)"
   ]
  },
  {
   "cell_type": "code",
   "execution_count": 169,
   "id": "8787fdf8-14e6-43b9-9483-fbe522eccb1e",
   "metadata": {},
   "outputs": [],
   "source": [
    "# tf_idf_"
   ]
  },
  {
   "cell_type": "code",
   "execution_count": 170,
   "id": "f288f56d",
   "metadata": {},
   "outputs": [],
   "source": [
    "def matching_score(query):\n",
    "    query_weights = {}\n",
    "    for key in tf_idf: \n",
    "        if key[1] in tokens:\n",
    "            query_weights[key[0]] += tf_idf[key]"
   ]
  },
  {
   "cell_type": "code",
   "execution_count": 171,
   "id": "d4091a32",
   "metadata": {},
   "outputs": [],
   "source": [
    "def matching_score(k, query):\n",
    "    preprocessed_query = preprocess(query)\n",
    "    tokens = word_tokenize(str(preprocessed_query))\n",
    "\n",
    "    print(\"Matching Score\")\n",
    "    print(\"\\nQuery:\", query)\n",
    "    print(\"\")\n",
    "    print(tokens)\n",
    "    \n",
    "    query_weights = {}\n",
    "\n",
    "    for key in tf_idf:\n",
    "        \n",
    "        if key[1] in tokens:\n",
    "            try:\n",
    "                query_weights[key[0]] += tf_idf[key]\n",
    "            except:\n",
    "                query_weights[key[0]] = tf_idf[key]\n",
    "    \n",
    "    query_weights = sorted(query_weights.items(), key=lambda x: x[1], reverse=True)\n",
    "\n",
    "    print(\"\")\n",
    "    \n",
    "    l = []\n",
    "    \n",
    "    for i in query_weights[:10]:\n",
    "        l.append(i[0])\n",
    "    \n",
    "    print(l)"
   ]
  },
  {
   "cell_type": "code",
   "execution_count": 172,
   "id": "88883b77",
   "metadata": {},
   "outputs": [],
   "source": [
    "# TF-IDF Cosine Similarity Ranking\n",
    "def cosine_sim(a, b):\n",
    "    cos_sim = np.dot(a, b)/(np.linalg.norm(a)*np.linalg.norm(b))\n",
    "    return cos_sim"
   ]
  },
  {
   "cell_type": "code",
   "execution_count": 173,
   "id": "a847902a",
   "metadata": {},
   "outputs": [],
   "source": [
    "# Vectorising tf-idf\n",
    "# generate document vector\n",
    "D = np.zeros((N, total_vocab_size))\n",
    "for i in tf_idf:\n",
    "    try:\n",
    "        ind = total_vocab.index(i[1])\n",
    "        D[i[0]][ind] = tf_idf[i]\n",
    "    except:\n",
    "        pass"
   ]
  },
  {
   "cell_type": "code",
   "execution_count": 174,
   "id": "bc2a48d2-d628-4bea-b8f3-4ea91e010755",
   "metadata": {},
   "outputs": [],
   "source": [
    "with open('D.pkl', 'wb') as handle:\n",
    "    pickle.dump(D, handle, protocol=pickle.HIGHEST_PROTOCOL)"
   ]
  },
  {
   "cell_type": "code",
   "execution_count": 175,
   "id": "120702ff-073c-4745-b7ca-dba504bc088f",
   "metadata": {},
   "outputs": [],
   "source": [
    "with open('D.pkl', 'rb') as handle:\n",
    "    D_ = pickle.load(handle)"
   ]
  },
  {
   "cell_type": "code",
   "execution_count": 183,
   "id": "6daa17ba-7d74-4ebc-a3b5-4b9bb558736a",
   "metadata": {},
   "outputs": [
    {
     "data": {
      "text/plain": [
       "array([[4.63448731e-05, 5.46812050e-04, 0.00000000e+00, ...,\n",
       "        0.00000000e+00, 0.00000000e+00, 0.00000000e+00],\n",
       "       [0.00000000e+00, 0.00000000e+00, 0.00000000e+00, ...,\n",
       "        0.00000000e+00, 0.00000000e+00, 0.00000000e+00],\n",
       "       [3.77875323e-05, 0.00000000e+00, 0.00000000e+00, ...,\n",
       "        0.00000000e+00, 0.00000000e+00, 0.00000000e+00],\n",
       "       ...,\n",
       "       [0.00000000e+00, 0.00000000e+00, 0.00000000e+00, ...,\n",
       "        0.00000000e+00, 0.00000000e+00, 0.00000000e+00],\n",
       "       [4.07084959e-05, 0.00000000e+00, 0.00000000e+00, ...,\n",
       "        0.00000000e+00, 0.00000000e+00, 0.00000000e+00],\n",
       "       [0.00000000e+00, 0.00000000e+00, 0.00000000e+00, ...,\n",
       "        3.91531670e-04, 3.91531670e-04, 3.91531670e-04]])"
      ]
     },
     "execution_count": 183,
     "metadata": {},
     "output_type": "execute_result"
    }
   ],
   "source": [
    "D_"
   ]
  },
  {
   "cell_type": "code",
   "execution_count": 177,
   "id": "eaf623f1-4ca9-4114-aca9-776d24206407",
   "metadata": {},
   "outputs": [],
   "source": [
    "# #Binary data\n",
    "# np.save('DocVector.npy', D)\n",
    "\n",
    "# #Human readable data\n",
    "# np.savetxt('DocVector.txt', D)"
   ]
  },
  {
   "cell_type": "code",
   "execution_count": 178,
   "id": "d96f8098",
   "metadata": {},
   "outputs": [],
   "source": [
    "# generate vector\n",
    "def gen_vector(tokens):\n",
    "    Q = np.zeros((len(total_vocab)))\n",
    "\n",
    "    counter = Counter(tokens)\n",
    "    words_count = len(tokens)\n",
    "\n",
    "    query_weights = {}\n",
    "    \n",
    "    for token in np.unique(tokens):\n",
    "        \n",
    "        tf = counter[token]/words_count\n",
    "        df = doc_freq(token)\n",
    "        idf = math.log((N+1)/(df+1))\n",
    "\n",
    "        try:\n",
    "            ind = total_vocab.index(token)\n",
    "            Q[ind] = tf*idf\n",
    "        except:\n",
    "            pass\n",
    "    return Q"
   ]
  },
  {
   "cell_type": "markdown",
   "id": "5d972453-4c8f-4fe1-9fed-e195161f93e4",
   "metadata": {},
   "source": [
    "## Query Spell Correction"
   ]
  },
  {
   "cell_type": "code",
   "execution_count": 184,
   "id": "02eba851-c0ed-42dd-a461-c0fd37bf195a",
   "metadata": {},
   "outputs": [],
   "source": [
    "sample_query_1 = \"Movie about aliens that is an absolute sci-fi thriller\"\n",
    "sample_query_2 = \"Moviee abt a fast car with amaze police actin\"\n",
    "sample_query_3 = \"Family-friedly animtion with strong emphasis 32 on values and commnity, that teach lessons.\"\n",
    "sample_query_4 = \"Drama mafia guns not for the feint hearted\"\n",
    "sample_query_5 = \"best drama of all time, so romantic and lovely, hopeful girls and heartwrenching.\""
   ]
  },
  {
   "cell_type": "code",
   "execution_count": 185,
   "id": "fff51daa-351d-4904-a2f1-6c92a1c504fd",
   "metadata": {},
   "outputs": [
    {
     "name": "stdout",
     "output_type": "stream",
     "text": [
      "Mispelled Query 1 :\t\t Movie about aliens that is an absolute sci-fi thriller\n",
      "Spell-Corrected Query 1 :\t movie about aliens that is an absolute scifi thriller\n",
      "\n",
      "\n",
      "Mispelled Query 2 :\t\t Moviee abt a fast car with amaze police actin\n",
      "Spell-Corrected Query 2 :\t moviee abt a fast car with amaze police actin\n",
      "\n",
      "\n",
      "Mispelled Query 3 :\t\t Family-friedly animtion with strong emphasis 32 on values and commnity, that teach lessons.\n",
      "Spell-Corrected Query 3 :\t familyfriedly animtion with strong emphasis 32 on values and commnity that teach lessons\n",
      "\n",
      "\n",
      "Mispelled Query 4 :\t\t Drama mafia guns not for the feint hearted\n",
      "Spell-Corrected Query 4 :\t drama mafia guns not for the feint hearted\n",
      "\n",
      "\n",
      "Mispelled Query 5 :\t\t best drama of all time, so romantic and lovely, hopeful girls and heartwrenching.\n",
      "Spell-Corrected Query 5 :\t best drama of all time so romantic and lovely hopeful girls and heartwrenching\n",
      "\n",
      "\n"
     ]
    }
   ],
   "source": [
    "query_list= [sample_query_1, sample_query_2,sample_query_3,sample_query_4,sample_query_5]\n",
    "for i in range(len(query_list)):\n",
    "    print(\"Mispelled Query\",i+1,\":\\t\\t\", query_list[i])\n",
    "    query_list[i] = preprocess(query_list[i])\n",
    "    print(\"Spell-Corrected Query\",i+1,\":\\t\", query_list[i])\n",
    "    print(\"\\n\")"
   ]
  },
  {
   "cell_type": "code",
   "execution_count": 186,
   "id": "3f7d33a9",
   "metadata": {},
   "outputs": [],
   "source": [
    "# cosine similarity calculator\n",
    "def cosine_similarity(k, query):\n",
    "#     # print(\"Cosine Similarity\")\n",
    "#     preprocessed_query = preprocess(query)\n",
    "\n",
    "#     # print(\"\\n Preprocessed Query:\", preprocessed_query)\n",
    "#     tokens = word_tokenize(str(preprocessed_query))\n",
    "    \n",
    "#     print(\"\\nQuery:\", query)\n",
    "#     print(\"\")\n",
    "#     print(tokens)\n",
    "    \n",
    "#     d_cosines = []\n",
    "    \n",
    "#     # generate query vector\n",
    "#     query_vector = gen_vector(tokens)\n",
    "    \n",
    "#     for d in D:\n",
    "#         d_cosines.append(cosine_sim(query_vector, d))\n",
    "\n",
    "#     # 'out': is the list of indexes of top 10 movies with highest cosine scores (ranked) i.e. most similar to query\n",
    "#     out = np.array(d_cosines).argsort()[-k:][::-1]\n",
    "    \n",
    "#     return out # connect back to html\n",
    "#     # return print the top k movies that match the user's query\n",
    "\n",
    "    preprocessed_query = preprocess(query)\n",
    "\n",
    "    # print(\"\\n Preprocessed Query:\", preprocessed_query)\n",
    "    tokens = word_tokenize(str(preprocessed_query))\n",
    "    \n",
    "    # print(\"\\nQuery:\", query)\n",
    "    # print(\"\")\n",
    "    # print(tokens)\n",
    "    \n",
    "    d_cosines = []\n",
    "    \n",
    "    # generate query vector\n",
    "    query_vector = gen_vector(tokens)\n",
    "    \n",
    "    for d in D:\n",
    "        d_cosines.append(cosine_sim(query_vector, d))\n",
    "\n",
    "    # 'out': is the list of indexes of top 10 movies with highest cosine scores (ranked) i.e. most similar to query\n",
    "    out = np.array(d_cosines).argsort()[::-1]\n",
    "    d_cosines.sort(reverse=True)\n",
    "    df = pd.DataFrame()\n",
    "    df['cosine_scores'] = d_cosines\n",
    "    df['movie_index_list'] = out \n",
    "    movie_title_list = []\n",
    "    for i in out:\n",
    "        movie_title_list.append(movie_reviews_df['title'][i])\n",
    "    df['movie_title'] = movie_title_list\n",
    "    return df # connect back to html\n",
    "    # return print the top k movies that match the user's query\n",
    "    "
   ]
  },
  {
   "cell_type": "markdown",
   "id": "6865ab74-d616-4d18-8595-31277a867d20",
   "metadata": {},
   "source": [
    "## Time Analysis between Query Submission and Document List Retrieval"
   ]
  },
  {
   "cell_type": "code",
   "execution_count": 187,
   "id": "377ce70e-b3a4-4684-936a-95572fb2b989",
   "metadata": {},
   "outputs": [
    {
     "name": "stdout",
     "output_type": "stream",
     "text": [
      "The slowest run took 5.93 times longer than the fastest. This could mean that an intermediate result is being cached.\n",
      "463 ms ± 343 ms per loop (mean ± std. dev. of 7 runs, 1 loop each)\n"
     ]
    }
   ],
   "source": [
    "%timeit cosine_similarity(10,sample_query_1)"
   ]
  },
  {
   "cell_type": "code",
   "execution_count": 159,
   "id": "9234cd26-25d0-4817-b36a-f66a34302881",
   "metadata": {},
   "outputs": [
    {
     "name": "stdout",
     "output_type": "stream",
     "text": [
      "26.4 ms ± 4.19 ms per loop (mean ± std. dev. of 7 runs, 10 loops each)\n"
     ]
    }
   ],
   "source": [
    "%timeit cosine_similarity(10,sample_query_2)"
   ]
  },
  {
   "cell_type": "code",
   "execution_count": 160,
   "id": "098111b6-2c99-4c30-b048-fca116fd7083",
   "metadata": {},
   "outputs": [
    {
     "name": "stdout",
     "output_type": "stream",
     "text": [
      "24.3 ms ± 1.24 ms per loop (mean ± std. dev. of 7 runs, 10 loops each)\n"
     ]
    }
   ],
   "source": [
    "%timeit cosine_similarity(10,sample_query_3)"
   ]
  },
  {
   "cell_type": "code",
   "execution_count": 161,
   "id": "451a7d0d-2a7a-47fe-849a-f8b21874909e",
   "metadata": {},
   "outputs": [
    {
     "name": "stdout",
     "output_type": "stream",
     "text": [
      "21.3 ms ± 2.25 ms per loop (mean ± std. dev. of 7 runs, 100 loops each)\n"
     ]
    }
   ],
   "source": [
    "%timeit cosine_similarity(10,sample_query_4)"
   ]
  },
  {
   "cell_type": "code",
   "execution_count": 162,
   "id": "6d74d6eb-b53b-4191-8287-a207cabc9073",
   "metadata": {},
   "outputs": [
    {
     "name": "stdout",
     "output_type": "stream",
     "text": [
      "20.6 ms ± 1.5 ms per loop (mean ± std. dev. of 7 runs, 10 loops each)\n"
     ]
    }
   ],
   "source": [
    "%timeit cosine_similarity(10,sample_query_5)"
   ]
  },
  {
   "cell_type": "markdown",
   "id": "ce4b12f1-91b5-40a4-8be2-773f9d26ec8e",
   "metadata": {},
   "source": [
    "## Query Results"
   ]
  },
  {
   "cell_type": "code",
   "execution_count": 188,
   "id": "f774246a",
   "metadata": {},
   "outputs": [
    {
     "data": {
      "text/html": [
       "<div>\n",
       "<style scoped>\n",
       "    .dataframe tbody tr th:only-of-type {\n",
       "        vertical-align: middle;\n",
       "    }\n",
       "\n",
       "    .dataframe tbody tr th {\n",
       "        vertical-align: top;\n",
       "    }\n",
       "\n",
       "    .dataframe thead th {\n",
       "        text-align: right;\n",
       "    }\n",
       "</style>\n",
       "<table border=\"1\" class=\"dataframe\">\n",
       "  <thead>\n",
       "    <tr style=\"text-align: right;\">\n",
       "      <th></th>\n",
       "      <th>cosine_scores</th>\n",
       "      <th>movie_index_list</th>\n",
       "      <th>movie_title</th>\n",
       "    </tr>\n",
       "  </thead>\n",
       "  <tbody>\n",
       "    <tr>\n",
       "      <th>0</th>\n",
       "      <td>0.032800</td>\n",
       "      <td>62</td>\n",
       "      <td>Alien</td>\n",
       "    </tr>\n",
       "    <tr>\n",
       "      <th>1</th>\n",
       "      <td>0.025523</td>\n",
       "      <td>660</td>\n",
       "      <td>Crash</td>\n",
       "    </tr>\n",
       "    <tr>\n",
       "      <th>2</th>\n",
       "      <td>0.025474</td>\n",
       "      <td>973</td>\n",
       "      <td>The_Bridges_of_Madison_County</td>\n",
       "    </tr>\n",
       "    <tr>\n",
       "      <th>3</th>\n",
       "      <td>0.020886</td>\n",
       "      <td>541</td>\n",
       "      <td>Once_Were_Warriors</td>\n",
       "    </tr>\n",
       "    <tr>\n",
       "      <th>4</th>\n",
       "      <td>0.019967</td>\n",
       "      <td>491</td>\n",
       "      <td>Star_Wars:_Episode_VII_-_The_Force_Awakens</td>\n",
       "    </tr>\n",
       "    <tr>\n",
       "      <th>...</th>\n",
       "      <td>...</td>\n",
       "      <td>...</td>\n",
       "      <td>...</td>\n",
       "    </tr>\n",
       "    <tr>\n",
       "      <th>993</th>\n",
       "      <td>0.000000</td>\n",
       "      <td>563</td>\n",
       "      <td>Aguirre,_der_Zorn_Gottes</td>\n",
       "    </tr>\n",
       "    <tr>\n",
       "      <th>994</th>\n",
       "      <td>0.000000</td>\n",
       "      <td>561</td>\n",
       "      <td>All_the_President's_Men</td>\n",
       "    </tr>\n",
       "    <tr>\n",
       "      <th>995</th>\n",
       "      <td>0.000000</td>\n",
       "      <td>560</td>\n",
       "      <td>Dawn_of_the_Dead</td>\n",
       "    </tr>\n",
       "    <tr>\n",
       "      <th>996</th>\n",
       "      <td>0.000000</td>\n",
       "      <td>559</td>\n",
       "      <td>Manhattan</td>\n",
       "    </tr>\n",
       "    <tr>\n",
       "      <th>997</th>\n",
       "      <td>0.000000</td>\n",
       "      <td>0</td>\n",
       "      <td>Jai_Bhim</td>\n",
       "    </tr>\n",
       "  </tbody>\n",
       "</table>\n",
       "<p>998 rows × 3 columns</p>\n",
       "</div>"
      ],
      "text/plain": [
       "     cosine_scores  movie_index_list  \\\n",
       "0         0.032800                62   \n",
       "1         0.025523               660   \n",
       "2         0.025474               973   \n",
       "3         0.020886               541   \n",
       "4         0.019967               491   \n",
       "..             ...               ...   \n",
       "993       0.000000               563   \n",
       "994       0.000000               561   \n",
       "995       0.000000               560   \n",
       "996       0.000000               559   \n",
       "997       0.000000                 0   \n",
       "\n",
       "                                    movie_title  \n",
       "0                                         Alien  \n",
       "1                                         Crash  \n",
       "2                 The_Bridges_of_Madison_County  \n",
       "3                            Once_Were_Warriors  \n",
       "4    Star_Wars:_Episode_VII_-_The_Force_Awakens  \n",
       "..                                          ...  \n",
       "993                    Aguirre,_der_Zorn_Gottes  \n",
       "994                     All_the_President's_Men  \n",
       "995                            Dawn_of_the_Dead  \n",
       "996                                   Manhattan  \n",
       "997                                    Jai_Bhim  \n",
       "\n",
       "[998 rows x 3 columns]"
      ]
     },
     "execution_count": 188,
     "metadata": {},
     "output_type": "execute_result"
    }
   ],
   "source": [
    "top_movies_list = cosine_similarity(10,sample_query_1)\n",
    "top_movies_list\n",
    "# movies with index numebr 57, 17, 0 52, 94, 33, 37, 25,50 78 seem to be the best matches\n"
   ]
  },
  {
   "cell_type": "code",
   "execution_count": null,
   "id": "73c371bb-2539-439b-a5aa-3b7166fa708b",
   "metadata": {},
   "outputs": [],
   "source": []
  },
  {
   "cell_type": "code",
   "execution_count": 189,
   "id": "e1b16563-4c82-4370-b054-d8e98420f5bd",
   "metadata": {},
   "outputs": [
    {
     "data": {
      "text/html": [
       "<div>\n",
       "<style scoped>\n",
       "    .dataframe tbody tr th:only-of-type {\n",
       "        vertical-align: middle;\n",
       "    }\n",
       "\n",
       "    .dataframe tbody tr th {\n",
       "        vertical-align: top;\n",
       "    }\n",
       "\n",
       "    .dataframe thead th {\n",
       "        text-align: right;\n",
       "    }\n",
       "</style>\n",
       "<table border=\"1\" class=\"dataframe\">\n",
       "  <thead>\n",
       "    <tr style=\"text-align: right;\">\n",
       "      <th></th>\n",
       "      <th>cosine_scores</th>\n",
       "      <th>movie_index_list</th>\n",
       "      <th>movie_title</th>\n",
       "    </tr>\n",
       "  </thead>\n",
       "  <tbody>\n",
       "    <tr>\n",
       "      <th>0</th>\n",
       "      <td>0.015520</td>\n",
       "      <td>177</td>\n",
       "      <td>Der_Untergang</td>\n",
       "    </tr>\n",
       "    <tr>\n",
       "      <th>1</th>\n",
       "      <td>0.012909</td>\n",
       "      <td>779</td>\n",
       "      <td>Beasts_of_No_Nation</td>\n",
       "    </tr>\n",
       "    <tr>\n",
       "      <th>2</th>\n",
       "      <td>0.012692</td>\n",
       "      <td>27</td>\n",
       "      <td>Drishyam_2</td>\n",
       "    </tr>\n",
       "    <tr>\n",
       "      <th>3</th>\n",
       "      <td>0.012396</td>\n",
       "      <td>632</td>\n",
       "      <td>Chugyeokja</td>\n",
       "    </tr>\n",
       "    <tr>\n",
       "      <th>4</th>\n",
       "      <td>0.009091</td>\n",
       "      <td>224</td>\n",
       "      <td>Contratiempo</td>\n",
       "    </tr>\n",
       "    <tr>\n",
       "      <th>...</th>\n",
       "      <td>...</td>\n",
       "      <td>...</td>\n",
       "      <td>...</td>\n",
       "    </tr>\n",
       "    <tr>\n",
       "      <th>993</th>\n",
       "      <td>0.000000</td>\n",
       "      <td>490</td>\n",
       "      <td>Arrival</td>\n",
       "    </tr>\n",
       "    <tr>\n",
       "      <th>994</th>\n",
       "      <td>0.000000</td>\n",
       "      <td>493</td>\n",
       "      <td>Short_Term_12</td>\n",
       "    </tr>\n",
       "    <tr>\n",
       "      <th>995</th>\n",
       "      <td>0.000000</td>\n",
       "      <td>494</td>\n",
       "      <td>Serbuan_maut_2:_Berandal</td>\n",
       "    </tr>\n",
       "    <tr>\n",
       "      <th>996</th>\n",
       "      <td>0.000000</td>\n",
       "      <td>504</td>\n",
       "      <td>The_Wrestler</td>\n",
       "    </tr>\n",
       "    <tr>\n",
       "      <th>997</th>\n",
       "      <td>0.000000</td>\n",
       "      <td>0</td>\n",
       "      <td>Jai_Bhim</td>\n",
       "    </tr>\n",
       "  </tbody>\n",
       "</table>\n",
       "<p>998 rows × 3 columns</p>\n",
       "</div>"
      ],
      "text/plain": [
       "     cosine_scores  movie_index_list               movie_title\n",
       "0         0.015520               177             Der_Untergang\n",
       "1         0.012909               779       Beasts_of_No_Nation\n",
       "2         0.012692                27                Drishyam_2\n",
       "3         0.012396               632                Chugyeokja\n",
       "4         0.009091               224              Contratiempo\n",
       "..             ...               ...                       ...\n",
       "993       0.000000               490                   Arrival\n",
       "994       0.000000               493             Short_Term_12\n",
       "995       0.000000               494  Serbuan_maut_2:_Berandal\n",
       "996       0.000000               504              The_Wrestler\n",
       "997       0.000000                 0                  Jai_Bhim\n",
       "\n",
       "[998 rows x 3 columns]"
      ]
     },
     "execution_count": 189,
     "metadata": {},
     "output_type": "execute_result"
    }
   ],
   "source": [
    "top_movies_list_2 = cosine_similarity(10,sample_query_2)\n",
    "top_movies_list_2"
   ]
  },
  {
   "cell_type": "code",
   "execution_count": null,
   "id": "4614cf27-a362-4804-a9a8-76a2f65ae45e",
   "metadata": {},
   "outputs": [],
   "source": []
  },
  {
   "cell_type": "markdown",
   "id": "f1a74d77-47b6-43b0-b5c0-8310043420b4",
   "metadata": {},
   "source": [
    "# Evaluation of movie search engine based on stemmed words corpus"
   ]
  },
  {
   "cell_type": "code",
   "execution_count": 129,
   "id": "868dae6d-6a0c-4d01-9792-ef83b904478c",
   "metadata": {},
   "outputs": [],
   "source": [
    "from sklearn.metrics import precision_score, recall_score, f1_score, classification_report"
   ]
  },
  {
   "cell_type": "code",
   "execution_count": 130,
   "id": "bc60347f-d6b1-44c6-9400-07a1f8d63ef2",
   "metadata": {},
   "outputs": [],
   "source": [
    "data = pd.read_csv(\"movies.csv\")\n",
    "data_100_titles = pd.DataFrame(data[0:100])\n",
    "\n",
    "# manual hand-constructed list of relevant movies for the query out of the top 100 movies (of the 1000 movies)\n",
    "\n",
    "y_true_1 = data_100_titles['query_1_rel']\n",
    "y_true_2 = data_100_titles['query_2_rel']\n",
    "y_true_3 = data_100_titles['query_3_rel']\n",
    "y_true_4 = data_100_titles['query_4_rel']\n",
    "y_true_5 = data_100_titles['query_5_rel']"
   ]
  },
  {
   "cell_type": "code",
   "execution_count": 131,
   "id": "5bdde71d-2a99-4a31-9232-c7914db8c686",
   "metadata": {},
   "outputs": [
    {
     "name": "stdout",
     "output_type": "stream",
     "text": [
      "<class 'pandas.core.frame.DataFrame'>\n",
      "RangeIndex: 100 entries, 0 to 99\n",
      "Data columns (total 14 columns):\n",
      " #   Column         Non-Null Count  Dtype  \n",
      "---  ------         --------------  -----  \n",
      " 0   titles         100 non-null    object \n",
      " 1   genre          100 non-null    object \n",
      " 2   duration       100 non-null    int64  \n",
      " 3   rating         100 non-null    float64\n",
      " 4   year           100 non-null    object \n",
      " 5   certification  94 non-null     object \n",
      " 6   url            100 non-null    object \n",
      " 7   director       100 non-null    object \n",
      " 8   cast           100 non-null    object \n",
      " 9   query_1_rel    100 non-null    float64\n",
      " 10  query_2_rel    100 non-null    float64\n",
      " 11  query_3_rel    100 non-null    float64\n",
      " 12  query_4_rel    100 non-null    float64\n",
      " 13  query_5_rel    100 non-null    float64\n",
      "dtypes: float64(6), int64(1), object(7)\n",
      "memory usage: 11.1+ KB\n"
     ]
    }
   ],
   "source": [
    "data_100_titles.info()"
   ]
  },
  {
   "cell_type": "code",
   "execution_count": 132,
   "id": "d153e402-c406-4822-add2-d8324bc46453",
   "metadata": {},
   "outputs": [],
   "source": [
    "for col in [\"query_1_rel\", \"query_2_rel\", \"query_3_rel\", \"query_4_rel\",\"query_5_rel\"]:\n",
    "    data_100_titles[col] = data_100_titles[col].apply(np.int64)"
   ]
  },
  {
   "cell_type": "code",
   "execution_count": 133,
   "id": "2d0ef114-1471-49c1-8367-2bbdd6af19f0",
   "metadata": {},
   "outputs": [
    {
     "data": {
      "text/plain": [
       "28"
      ]
     },
     "execution_count": 133,
     "metadata": {},
     "output_type": "execute_result"
    }
   ],
   "source": [
    "true_q_total_1 = int(y_true_1.sum())\n",
    "true_q_total_2 = int(y_true_2.sum())\n",
    "true_q_total_3 = int(y_true_3.sum())\n",
    "true_q_total_4 = int(y_true_4.sum())\n",
    "true_q_total_5 = int(y_true_5.sum())\n",
    "\n",
    "max(true_q_total_1, true_q_total_2, true_q_total_3, true_q_total_4, true_q_total_5)"
   ]
  },
  {
   "cell_type": "markdown",
   "id": "e4fb5b3a-01d2-48a9-8201-6065f5663c81",
   "metadata": {},
   "source": [
    "## Precision/Recall/F1-measure/Arithmetic Mean scores VS Number of Documents Retrieved"
   ]
  },
  {
   "cell_type": "code",
   "execution_count": 134,
   "id": "36d06b97-c3a2-4a35-b855-03888791642f",
   "metadata": {},
   "outputs": [],
   "source": [
    "# 5 sample queries\n",
    "K_values = range(2,36,2) # = numdocs\n",
    "\n",
    "def get_results(K_vals,query):\n",
    "    results = []\n",
    "    for k in K_vals:\n",
    "        top_movies_list = cosine_similarity(k,query)['movie_index_list'][:k]\n",
    "        results.append(top_movies_list)\n",
    "        # print(results)\n",
    "    return results\n",
    "\n",
    "\n",
    "def plot_graphs(query, query_rel_col, true_q_total, results, K_vals):\n",
    "\n",
    "    precision_score_list = []\n",
    "    recall_score_list = []\n",
    "    f1_score_list = []\n",
    "    arithmetic_mean_list = [] \n",
    "\n",
    "    for i in range(len(results)):\n",
    "        y_true_topk = list(data_100_titles[query_rel_col][results[i]])\n",
    "\n",
    "        y_pred_topk = [1]*len(results[i])\n",
    "        if (len(results[i])> true_q_total):\n",
    "            y_pred_topk = [1]*true_q_total + [0] * (len(results[i])-true_q_total)\n",
    "#         print(\"y_pred\",y_pred_topk)\n",
    "#         print(y_true_topk)\n",
    "        \n",
    "        precision = precision_score(y_pred_topk, y_true_topk)\n",
    "        recall = recall_score([1]*len(results[i]), y_true_topk)\n",
    "        \n",
    "        f1 = 2 * (precision*recall)/(precision+recall)\n",
    "        if f1 != 0:\n",
    "            f1_score = f1\n",
    "        else:\n",
    "            f1_score = 0 \n",
    "        \n",
    "        arith_mean = (precision + recall)/2\n",
    "\n",
    "        precision_score_list.append(precision)\n",
    "        recall_score_list.append(recall)\n",
    "        f1_score_list.append(f1_score)\n",
    "        arithmetic_mean_list.append(arith_mean)\n",
    "    \n",
    "    plt.plot(K_values, precision_score_list, label = \"precision\")\n",
    "    plt.plot(K_values, recall_score_list, label = \"recall\")\n",
    "    plt.plot(K_values, f1_score_list, label = \"f1 score\")\n",
    "    plt.plot(K_values, arithmetic_mean_list, label = \"arithmetic mean\")\n",
    "    plt.legend()\n",
    "    plt.show()"
   ]
  },
  {
   "cell_type": "code",
   "execution_count": 136,
   "id": "7cabe53f-d22e-4f0d-9a9c-4610f2f13e58",
   "metadata": {},
   "outputs": [
    {
     "data": {
      "image/png": "[encoded data removed]",
      "text/plain": [
       "<Figure size 432x288 with 1 Axes>"
      ]
     },
     "metadata": {
      "needs_background": "light"
     },
     "output_type": "display_data"
    }
   ],
   "source": [
    "res = get_results(K_values, sample_query_1)\n",
    "plot_graphs(query = sample_query_1, query_rel_col = \"query_1_rel\", true_q_total = true_q_total_1, results = res, K_vals = K_values)"
   ]
  },
  {
   "cell_type": "code",
   "execution_count": 137,
   "id": "1a58a2c0-fa17-484e-beda-445ecae882a9",
   "metadata": {},
   "outputs": [
    {
     "data": {
      "image/png": "[encoded data removed]",
      "text/plain": [
       "<Figure size 432x288 with 1 Axes>"
      ]
     },
     "metadata": {
      "needs_background": "light"
     },
     "output_type": "display_data"
    }
   ],
   "source": [
    "res = get_results(K_values, sample_query_2)\n",
    "plot_graphs(query = sample_query_2, query_rel_col = \"query_2_rel\", true_q_total = true_q_total_2, results = res, K_vals = K_values)"
   ]
  },
  {
   "cell_type": "code",
   "execution_count": 138,
   "id": "0a55e1b8-2779-4b94-91cd-d40e245d9000",
   "metadata": {},
   "outputs": [
    {
     "data": {
      "image/png": "[encoded data removed]",
      "text/plain": [
       "<Figure size 432x288 with 1 Axes>"
      ]
     },
     "metadata": {
      "needs_background": "light"
     },
     "output_type": "display_data"
    }
   ],
   "source": [
    "res = get_results(K_values, sample_query_3)\n",
    "plot_graphs(query = sample_query_3, query_rel_col = \"query_3_rel\", true_q_total = true_q_total_3, results = res, K_vals = K_values)"
   ]
  },
  {
   "cell_type": "code",
   "execution_count": 139,
   "id": "0751c6c3-cbcd-46a2-9741-862d8a3d3164",
   "metadata": {},
   "outputs": [
    {
     "data": {
      "image/png": "[encoded data removed]",
      "text/plain": [
       "<Figure size 432x288 with 1 Axes>"
      ]
     },
     "metadata": {
      "needs_background": "light"
     },
     "output_type": "display_data"
    }
   ],
   "source": [
    "res = get_results(K_values, sample_query_4)\n",
    "plot_graphs(query = sample_query_4, query_rel_col = \"query_4_rel\", true_q_total = true_q_total_4, results = res, K_vals = K_values)"
   ]
  },
  {
   "cell_type": "code",
   "execution_count": 140,
   "id": "5d952d51-e5d5-424d-9d12-f3566a1200e9",
   "metadata": {},
   "outputs": [
    {
     "data": {
      "text/plain": [
       "28"
      ]
     },
     "execution_count": 140,
     "metadata": {},
     "output_type": "execute_result"
    }
   ],
   "source": [
    "data_100_titles['query_5_rel'].sum()\n",
    "data_100_titles['query_2_rel'].sum()"
   ]
  },
  {
   "cell_type": "code",
   "execution_count": 141,
   "id": "e4f75c1f-e61c-49d1-a01c-ec0c725a6c6d",
   "metadata": {},
   "outputs": [
    {
     "data": {
      "image/png": "[encoded data removed]",
      "text/plain": [
       "<Figure size 432x288 with 1 Axes>"
      ]
     },
     "metadata": {
      "needs_background": "light"
     },
     "output_type": "display_data"
    }
   ],
   "source": [
    "res = get_results(K_values, sample_query_5)\n",
    "plot_graphs(query = sample_query_5, query_rel_col = \"query_5_rel\", true_q_total = true_q_total_5, results = res, K_vals = K_values)"
   ]
  },
  {
   "cell_type": "markdown",
   "id": "1a9e160d-db5c-44f0-bb2a-6a4060508518",
   "metadata": {},
   "source": []
  },
  {
   "cell_type": "markdown",
   "id": "93edf75c-1826-4ffa-94a6-132432f25d06",
   "metadata": {},
   "source": [
    "# Enhanced Search Section"
   ]
  },
  {
   "cell_type": "markdown",
   "id": "1acb0003-de8e-4fa7-aacc-d452382313db",
   "metadata": {},
   "source": [
    "## Word Cloud"
   ]
  },
  {
   "cell_type": "code",
   "execution_count": 142,
   "id": "0e08cac1-8069-42e4-b168-363715714a40",
   "metadata": {},
   "outputs": [
    {
     "name": "stdout",
     "output_type": "stream",
     "text": [
      "Requirement already satisfied: wordcloud in c:\\users\\chenw\\anaconda3\\lib\\site-packages (1.8.1)\n",
      "Requirement already satisfied: pillow in c:\\users\\chenw\\appdata\\roaming\\python\\python37\\site-packages (from wordcloud) (8.2.0)\n",
      "Requirement already satisfied: numpy>=1.6.1 in c:\\users\\chenw\\anaconda3\\lib\\site-packages (from wordcloud) (1.21.0)\n",
      "Requirement already satisfied: matplotlib in c:\\users\\chenw\\appdata\\roaming\\python\\python37\\site-packages (from wordcloud) (3.4.2)\n",
      "Requirement already satisfied: cycler>=0.10 in c:\\users\\chenw\\appdata\\roaming\\python\\python37\\site-packages (from matplotlib->wordcloud) (0.10.0)\n",
      "Requirement already satisfied: python-dateutil>=2.7 in c:\\users\\chenw\\anaconda3\\lib\\site-packages (from matplotlib->wordcloud) (2.8.2)\n",
      "Requirement already satisfied: pyparsing>=2.2.1 in c:\\users\\chenw\\anaconda3\\lib\\site-packages (from matplotlib->wordcloud) (2.4.7)\n"
     ]
    },
    {
     "name": "stderr",
     "output_type": "stream",
     "text": [
      "WARNING: Ignoring invalid distribution -ffi (c:\\users\\chenw\\anaconda3\\lib\\site-packages)\n",
      "WARNING: Ignoring invalid distribution -ffi (c:\\users\\chenw\\anaconda3\\lib\\site-packages)\n",
      "WARNING: Ignoring invalid distribution -ffi (c:\\users\\chenw\\anaconda3\\lib\\site-packages)\n",
      "WARNING: Ignoring invalid distribution -ffi (c:\\users\\chenw\\anaconda3\\lib\\site-packages)\n",
      "WARNING: Ignoring invalid distribution -ffi (c:\\users\\chenw\\anaconda3\\lib\\site-packages)\n",
      "WARNING: Ignoring invalid distribution -ffi (c:\\users\\chenw\\anaconda3\\lib\\site-packages)\n"
     ]
    },
    {
     "name": "stdout",
     "output_type": "stream",
     "text": [
      "Requirement already satisfied: kiwisolver>=1.0.1 in c:\\users\\chenw\\appdata\\roaming\\python\\python37\\site-packages (from matplotlib->wordcloud) (1.3.1)\n",
      "Requirement already satisfied: six in c:\\users\\chenw\\anaconda3\\lib\\site-packages (from cycler>=0.10->matplotlib->wordcloud) (1.16.0)\n"
     ]
    }
   ],
   "source": [
    "!pip install wordcloud"
   ]
  },
  {
   "cell_type": "code",
   "execution_count": 143,
   "id": "d9d4d248-b16c-4042-9fd3-4ec912ffd006",
   "metadata": {},
   "outputs": [],
   "source": [
    "from wordcloud import WordCloud"
   ]
  },
  {
   "cell_type": "code",
   "execution_count": 144,
   "id": "2fb2a2f5-7f56-4ef7-897f-2e309f38c503",
   "metadata": {},
   "outputs": [],
   "source": [
    "# movie_reviews_df['title'][21]"
   ]
  },
  {
   "cell_type": "code",
   "execution_count": 145,
   "id": "1da3b729-00f1-4f67-a43c-43ec27d0b6d5",
   "metadata": {},
   "outputs": [],
   "source": [
    "# Get topK movie indexes relevant to sample query 1\n",
    "res1 = get_results([10], sample_query_1)"
   ]
  },
  {
   "cell_type": "code",
   "execution_count": 146,
   "id": "822c99b4-4fc3-4275-a94a-bc86be0c0bbc",
   "metadata": {},
   "outputs": [
    {
     "data": {
      "text/plain": [
       "0    62\n",
       "1    89\n",
       "2    43\n",
       "3    39\n",
       "4    19\n",
       "5    27\n",
       "6    18\n",
       "7    34\n",
       "8    21\n",
       "9    38\n",
       "Name: movie_index_list, dtype: int64"
      ]
     },
     "execution_count": 146,
     "metadata": {},
     "output_type": "execute_result"
    }
   ],
   "source": [
    "res1[0]"
   ]
  },
  {
   "cell_type": "code",
   "execution_count": 147,
   "id": "a5ad26e1-5094-417d-bac9-c674e2734f03",
   "metadata": {},
   "outputs": [
    {
     "data": {
      "text/plain": [
       "62"
      ]
     },
     "execution_count": 147,
     "metadata": {},
     "output_type": "execute_result"
    }
   ],
   "source": [
    "res1[0][0]"
   ]
  },
  {
   "cell_type": "code",
   "execution_count": 148,
   "id": "cc630247-8d78-4cfd-91f6-2ef852c37b34",
   "metadata": {},
   "outputs": [
    {
     "name": "stdout",
     "output_type": "stream",
     "text": [
      "Title: Alien\n"
     ]
    },
    {
     "data": {
      "image/png": "[encoded data removed]",
      "text/plain": [
       "<Figure size 432x288 with 1 Axes>"
      ]
     },
     "metadata": {
      "needs_background": "light"
     },
     "output_type": "display_data"
    }
   ],
   "source": [
    "i = res1[0]\n",
    "print(\"Title:\", movie_reviews_df['title'][i[0]])\n",
    "all_reviews_one_movie = ' '.join(movie_reviews_df['reviews'][i])\n",
    "wordcloud = WordCloud().generate(all_reviews_one_movie)\n",
    "\n",
    "plt.imshow(wordcloud, interpolation = \"bilinear\")\n",
    "plt.axis(\"off\")\n",
    "plt.show()"
   ]
  },
  {
   "cell_type": "markdown",
   "id": "3278b3bd-1f9a-4eec-a9f2-20b0b6291c39",
   "metadata": {},
   "source": []
  },
  {
   "cell_type": "code",
   "execution_count": null,
   "id": "68622c31-60db-40a2-8a8a-e190b93efe3e",
   "metadata": {},
   "outputs": [],
   "source": []
  }
 ],
 "metadata": {
  "kernelspec": {
   "display_name": "Python 3 (ipykernel)",
   "language": "python",
   "name": "python3"
  },
  "language_info": {
   "codemirror_mode": {
    "name": "ipython",
    "version": 3
   },
   "file_extension": ".py",
   "mimetype": "text/x-python",
   "name": "python",
   "nbconvert_exporter": "python",
   "pygments_lexer": "ipython3",
   "version": "3.7.10"
  },
  "toc": {
   "base_numbering": 1,
   "nav_menu": {},
   "number_sections": true,
   "sideBar": true,
   "skip_h1_title": false,
   "title_cell": "Table of Contents",
   "title_sidebar": "Contents",
   "toc_cell": false,
   "toc_position": {},
   "toc_section_display": true,
   "toc_window_display": false
  },
  "toc-autonumbering": true
 },
 "nbformat": 4,
 "nbformat_minor": 5
}
